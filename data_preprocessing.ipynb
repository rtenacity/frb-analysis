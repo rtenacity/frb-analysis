{
 "cells": [
  {
   "cell_type": "code",
   "execution_count": 39,
   "metadata": {},
   "outputs": [],
   "source": [
    "import pandas as pd\n",
    "from sklearn.preprocessing import StandardScaler\n",
    "from sklearn.model_selection import train_test_split\n",
    "import numpy as np\n",
    "import torch\n",
    "from torch.utils.data import DataLoader, TensorDataset\n",
    "import torch.nn as nn\n",
    "import torch.nn.functional as F\n",
    "from torch.optim.lr_scheduler import ReduceLROnPlateau\n",
    "import matplotlib.pyplot as plt\n",
    "import re\n",
    "from sklearn.decomposition import PCA\n",
    "import seaborn as sns\n",
    "from sklearn.cluster import KMeans\n",
    "from sklearn.metrics import silhouette_score, adjusted_rand_score, confusion_matrix\n",
    "from sklearn.mixture import GaussianMixture\n",
    "from sklearn.manifold import TSNE\n",
    "from sklearn.svm import SVC\n",
    "from sklearn.metrics import accuracy_score, classification_report\n",
    "from sklearn.model_selection import GridSearchCV"
   ]
  },
  {
   "cell_type": "code",
   "execution_count": 40,
   "metadata": {},
   "outputs": [],
   "source": [
    "frb_data = pd.read_csv('frb-data.csv')\n",
    "frb_data['Repeater'] = frb_data['Repeater'].map({'Yes': 1, 'No': 0})\n",
    "frb_data['Repeater'] = frb_data['Repeater'].fillna(0)\n",
    "frb_data['Repeater'] = frb_data['Repeater'].astype(int)"
   ]
  },
  {
   "cell_type": "code",
   "execution_count": 48,
   "metadata": {},
   "outputs": [
    {
     "data": {
      "text/plain": [
       "(0, 40)"
      ]
     },
     "execution_count": 48,
     "metadata": {},
     "output_type": "execute_result"
    }
   ],
   "source": []
  },
  {
   "cell_type": "code",
   "execution_count": 41,
   "metadata": {},
   "outputs": [],
   "source": [
    "labels = frb_data['Repeater']\n",
    "\n",
    "features = ['Observing_band', 'MJD', 'GL', 'GB', 'SNR', 'DM_SNR', 'DM_alig', 'Flux_density', \n",
    "             'Width', 'Freq_high', 'Freq_low', 'Freq_peak', 'Fluence', 'Energy', \n",
    "             'Polar_l',  'Polar_c', 'RM_syn',  'RM_QUfit', 'Scatt_t', 'Scin_f',]\n",
    "\n",
    "# Function to clean numerical strings and convert to float\n",
    "def clean_numeric_value(value):\n",
    "    if type(value)==str and len(value.strip()) > 0:\n",
    "        try:\n",
    "            if '/' in value:\n",
    "                value = value.split('/')[0]\n",
    "            if '-' in value and not '+' in value:\n",
    "                value = value.split('-')[0]\n",
    "            if value[0] == '+':\n",
    "                value = value[1:]\n",
    "                value.split('/')\n",
    "                value = value[0]\n",
    "            if value[0] == '<':\n",
    "                value = value[1:]\n",
    "            if value[0] == '>':\n",
    "                value = value[1:]\n",
    "            return float(value)\n",
    "        except:\n",
    "            #print(f\"Error: {value}\")\n",
    "            return 0\n",
    "    try:\n",
    "        return float(value)\n",
    "    except:\n",
    "        print(f\"Error: {value}\")\n",
    "        return np.nan\n",
    "\n",
    "for col in frb_data[features].columns:\n",
    "    frb_data[col] = frb_data[col].apply(clean_numeric_value)"
   ]
  },
  {
   "cell_type": "code",
   "execution_count": 49,
   "metadata": {},
   "outputs": [
    {
     "data": {
      "text/plain": [
       "(0, 20)"
      ]
     },
     "execution_count": 49,
     "metadata": {},
     "output_type": "execute_result"
    }
   ],
   "source": [
    "frb_data[features].fillna(0)"
   ]
  },
  {
   "cell_type": "code",
   "execution_count": null,
   "metadata": {},
   "outputs": [],
   "source": [
    "frb_data_clean = frb_data[features].fillna(0)"
   ]
  },
  {
   "cell_type": "code",
   "execution_count": null,
   "metadata": {},
   "outputs": [],
   "source": [
    "for column in frb_data_clean.columns:\n",
    "    print(f\"Number of non-zero values in {column}: {np.count_nonzero(frb_data_clean[column])}\")"
   ]
  }
 ],
 "metadata": {
  "kernelspec": {
   "display_name": ".frb",
   "language": "python",
   "name": "python3"
  },
  "language_info": {
   "codemirror_mode": {
    "name": "ipython",
    "version": 3
   },
   "file_extension": ".py",
   "mimetype": "text/x-python",
   "name": "python",
   "nbconvert_exporter": "python",
   "pygments_lexer": "ipython3",
   "version": "3.12.3"
  }
 },
 "nbformat": 4,
 "nbformat_minor": 2
}
