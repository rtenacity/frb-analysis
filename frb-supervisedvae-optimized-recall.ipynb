{
 "cells": [
  {
   "cell_type": "code",
   "execution_count": 338,
   "metadata": {},
   "outputs": [],
   "source": [
    "import pandas as pd\n",
    "from sklearn.preprocessing import StandardScaler\n",
    "from sklearn.model_selection import train_test_split\n",
    "import numpy as np\n",
    "import torch\n",
    "from torch.utils.data import DataLoader, TensorDataset\n",
    "import torch.nn as nn\n",
    "import torch.nn.functional as F\n",
    "from torch.optim.lr_scheduler import ReduceLROnPlateau\n",
    "import matplotlib.pyplot as plt\n",
    "import re\n",
    "from sklearn.decomposition import PCA\n",
    "import seaborn as sns\n",
    "from sklearn.cluster import KMeans\n",
    "from sklearn.metrics import silhouette_score, adjusted_rand_score, confusion_matrix\n",
    "from sklearn.mixture import GaussianMixture\n",
    "from sklearn.manifold import TSNE\n",
    "from sklearn.svm import SVC\n",
    "from sklearn.metrics import accuracy_score, classification_report, roc_auc_score, roc_curve, auc\n",
    "from sklearn.model_selection import GridSearchCV\n",
    "from sklearn.metrics import f1_score, recall_score\n",
    "from itertools import product\n",
    "from sklearn.model_selection import StratifiedKFold\n",
    "import optuna"
   ]
  },
  {
   "cell_type": "code",
   "execution_count": 339,
   "metadata": {},
   "outputs": [],
   "source": [
    "frb_data = pd.read_csv('frb-data.csv')\n",
    "frb_data['Repeater'] = frb_data['Repeater'].map({'Yes': 1, 'No': 0})\n",
    "frb_data['Repeater'] = frb_data['Repeater'].fillna(0)\n",
    "frb_data['Repeater'] = frb_data['Repeater'].astype(int)"
   ]
  },
  {
   "cell_type": "code",
   "execution_count": 340,
   "metadata": {},
   "outputs": [],
   "source": [
    "# Select numerical columns that are relevant for VAE training\n",
    "# features = ['Observing_band', 'MJD', 'GL', 'GB', 'SNR', 'DM_SNR', 'DM_SNR_err', 'DM_alig', 'DM_alig_err', 'Flux_density', \n",
    "#             'Flux_density_err', 'Width', 'Width_err', 'Freq_high', 'Freq_low', 'Freq_peak', 'Fluence', 'Fluence_err', 'Energy', \n",
    "#             'Energy_err', 'Polar_l', 'Polar_l_err', 'Polar_c', 'Polar_c_err', 'RM_syn', 'RM_syn_err', 'RM_QUfit', 'RM_QUfit_err', 'Scatt_t', 'Scatt_t_err', 'Scin_f', 'Scin_f_err',]\n",
    "\n",
    "labels = frb_data['Repeater']\n",
    "\n",
    "# Function to clean numerical strings and convert to float\n",
    "def clean_numeric_value(value):\n",
    "    if isinstance(value, str):\n",
    "        value = value.strip()\n",
    "        if not value:\n",
    "            return np.nan\n",
    "        try:\n",
    "            # Remove special characters and split if necessary\n",
    "            for char in ['/', '+', '<', '>', '~']:\n",
    "                value = value.replace(char, '')\n",
    "            if '-' in value:\n",
    "                value = value.split('-')[0]\n",
    "            return float(value)\n",
    "        except ValueError:\n",
    "            return np.nan\n",
    "    try:\n",
    "        return float(value)\n",
    "    except (ValueError, TypeError):\n",
    "        return np.nan\n",
    "    \n",
    "error_features = [\n",
    "    'DM_SNR', 'DM_alig', 'Flux_density', 'Width', 'Fluence', 'Energy',\n",
    "    'Polar_l', 'Polar_c', 'RM_syn', 'RM_QUfit', 'Scatt_t', 'Scin_f'\n",
    "]\n",
    "base_features = [\n",
    "    'Observing_band', 'MJD', 'GL', 'GB', 'SNR', 'Freq_high',\n",
    "    'Freq_low', 'Freq_peak', 'Repeater'\n",
    "]\n",
    "\n",
    "for feature in base_features + error_features:\n",
    "    frb_data[feature] = frb_data[feature].apply(clean_numeric_value)\n",
    "\n",
    "for feature in error_features:\n",
    "    frb_data[f'{feature}_err'] = frb_data[f'{feature}_err'].apply(clean_numeric_value)\n",
    "\n",
    "for feature in error_features:\n",
    "    frb_data[f'{feature}_upper'] = frb_data[feature] + frb_data[f'{feature}_err']\n",
    "    frb_data[f'{feature}_lower'] = frb_data[feature] - frb_data[f'{feature}_err']\n",
    "    frb_data[f'{feature}_lower'] = frb_data[f'{feature}_lower'].clip(lower=0)\n",
    "\n",
    "features = (\n",
    "    base_features +\n",
    "    error_features +\n",
    "    [f'{feature}_upper' for feature in error_features] +\n",
    "    [f'{feature}_lower' for feature in error_features]\n",
    ")"
   ]
  },
  {
   "cell_type": "code",
   "execution_count": 341,
   "metadata": {},
   "outputs": [],
   "source": [
    "frb_data_clean = frb_data[features].fillna(0)\n",
    "scaler = StandardScaler()\n",
    "frb_data_scaled = scaler.fit_transform(frb_data_clean)\n",
    "\n",
    "# Retain the original indices\n",
    "indices = frb_data_clean.index\n",
    "\n",
    "# Split the data and retain indices\n",
    "train_data, val_data, train_labels, val_labels, train_indices, val_indices = train_test_split(\n",
    "    frb_data_scaled, labels, indices, test_size=0.2, random_state=42, stratify=labels\n",
    ")\n",
    "\n",
    "# Convert to PyTorch tensors\n",
    "train_tensor = torch.tensor(train_data, dtype=torch.float32)\n",
    "val_tensor = torch.tensor(val_data, dtype=torch.float32)\n",
    "train_labels_tensor = torch.tensor(train_labels.values, dtype=torch.long)\n",
    "val_labels_tensor = torch.tensor(val_labels.values, dtype=torch.long)\n",
    "\n",
    "# Create datasets and dataloaders\n",
    "batch_size = 64\n",
    "train_dataset = TensorDataset(train_tensor, train_labels_tensor)\n",
    "val_dataset = TensorDataset(val_tensor, val_labels_tensor)\n",
    "\n",
    "train_loader = DataLoader(train_dataset, batch_size=batch_size, shuffle=True)\n",
    "val_loader = DataLoader(val_dataset, batch_size=batch_size, shuffle=False)"
   ]
  },
  {
   "cell_type": "code",
   "execution_count": 342,
   "metadata": {},
   "outputs": [],
   "source": [
    "class SupervisedVAE(nn.Module):\n",
    "    def __init__(self, input_dim, hidden_dim, latent_dim, dropout_rate=0.3, activation=nn.LeakyReLU(0.1)):\n",
    "        super(SupervisedVAE, self).__init__()\n",
    "        \n",
    "        self.activation = activation\n",
    "        \n",
    "        # Encoder\n",
    "        self.encoder = nn.Sequential(\n",
    "            nn.Linear(input_dim, hidden_dim),\n",
    "            nn.BatchNorm1d(hidden_dim),\n",
    "            self.activation,\n",
    "            nn.Dropout(dropout_rate),\n",
    "            nn.Linear(hidden_dim, hidden_dim),\n",
    "            nn.BatchNorm1d(hidden_dim),\n",
    "            self.activation,\n",
    "            nn.Dropout(dropout_rate)\n",
    "        )\n",
    "        \n",
    "        self.fc_mu = nn.Linear(hidden_dim, latent_dim)\n",
    "        self.fc_logvar = nn.Linear(hidden_dim, latent_dim)\n",
    "        \n",
    "        # Decoder\n",
    "        self.decoder = nn.Sequential(\n",
    "            nn.Linear(latent_dim, hidden_dim),\n",
    "            nn.BatchNorm1d(hidden_dim),\n",
    "            self.activation,\n",
    "            nn.Dropout(dropout_rate),\n",
    "            nn.Linear(hidden_dim, hidden_dim),\n",
    "            nn.BatchNorm1d(hidden_dim),\n",
    "            self.activation,\n",
    "            nn.Dropout(dropout_rate),\n",
    "            nn.Linear(hidden_dim, input_dim)\n",
    "        )\n",
    "        \n",
    "        # Classification head for binary classification\n",
    "        self.classifier = nn.Sequential(\n",
    "            nn.Linear(latent_dim, hidden_dim // 2),\n",
    "            self.activation,\n",
    "            nn.Dropout(dropout_rate),\n",
    "            nn.Linear(hidden_dim // 2, 1),\n",
    "            nn.Sigmoid()\n",
    "        )\n",
    "    \n",
    "    def encode(self, x):\n",
    "        h = self.encoder(x)\n",
    "        return self.fc_mu(h), self.fc_logvar(h)\n",
    "    \n",
    "    def reparameterize(self, mu, logvar):\n",
    "        std = torch.exp(0.5 * logvar)\n",
    "        eps = torch.randn_like(std)\n",
    "        return mu + eps * std\n",
    "    \n",
    "    def decode(self, z):\n",
    "        return self.decoder(z)\n",
    "    \n",
    "    def forward(self, x):\n",
    "        mu, logvar = self.encode(x)\n",
    "        z = self.reparameterize(mu, logvar)\n",
    "        recon_x = self.decode(z)\n",
    "        class_prob = self.classifier(z)\n",
    "        return recon_x, mu, logvar, class_prob"
   ]
  },
  {
   "cell_type": "code",
   "execution_count": 343,
   "metadata": {},
   "outputs": [],
   "source": [
    "device = torch.device(\"cuda\" if torch.cuda.is_available() else \"cpu\")\n",
    "input_dim = frb_data_scaled.shape[1]\n",
    "hidden_dim = 256\n",
    "latent_dim = 10\n",
    "patience = 4\n",
    "num_epochs = 150"
   ]
  },
  {
   "cell_type": "code",
   "execution_count": 344,
   "metadata": {},
   "outputs": [],
   "source": [
    "reconstruction_loss_fn = nn.MSELoss(reduction='sum')\n",
    "classification_loss_fn = nn.BCELoss()\n",
    "\n",
    "def loss_function(recon_x, x, mu, logvar, class_prob, labels, beta, gamma):\n",
    "    recon_loss = reconstruction_loss_fn(recon_x, x)\n",
    "    kl_loss = -0.5 * torch.sum(1 + logvar - mu.pow(2) - logvar.exp())\n",
    "    class_loss = classification_loss_fn(class_prob, labels.unsqueeze(1).float())\n",
    "    total_loss = recon_loss + beta * kl_loss + gamma * class_loss\n",
    "    return total_loss, recon_loss, kl_loss, class_loss\n",
    "\n"
   ]
  },
  {
   "cell_type": "code",
   "execution_count": 345,
   "metadata": {},
   "outputs": [],
   "source": [
    "def train_supervised(model, optimizer, scheduler, epoch, beta, gamma):\n",
    "    model.train()\n",
    "    train_loss = 0\n",
    "    recon_loss_total = 0\n",
    "    kl_loss_total = 0\n",
    "    classification_loss_total = 0\n",
    "    \n",
    "    correct = 0\n",
    "    total = 0\n",
    "    \n",
    "    for batch_idx, (data, labels) in enumerate(train_loader):\n",
    "        data, labels = data.to(device), labels.to(device)\n",
    "        optimizer.zero_grad()\n",
    "        recon_batch, mu, logvar, class_logits = model(data)\n",
    "        \n",
    "        # Supervised loss function\n",
    "        loss, recon_loss, kl_loss, classification_loss = loss_function(\n",
    "            recon_batch, data, mu, logvar, class_logits, labels, beta, gamma\n",
    "        )\n",
    "        \n",
    "        loss.backward()\n",
    "        optimizer.step()\n",
    "        \n",
    "        train_loss += loss.item()\n",
    "        recon_loss_total += recon_loss.item()\n",
    "        kl_loss_total += kl_loss.item()\n",
    "        classification_loss_total += classification_loss.item()\n",
    "        \n",
    "        predicted = (class_logits > 0.5).float()\n",
    "        total += labels.size(0)\n",
    "        correct += (predicted.squeeze() == labels).sum().item()\n",
    "        \n",
    "        # if batch_idx % 100 == 0:\n",
    "        #     print(f'Train Epoch: {epoch} [{batch_idx * len(data)}/{len(train_loader.dataset)} '\n",
    "        #           f'({100. * batch_idx / len(train_loader):.0f}%)]\\tLoss: {loss.item() / len(data):.6f}')\n",
    "    \n",
    "    # Calculate average loss and accuracy for the epoch\n",
    "    avg_loss = train_loss / len(train_loader.dataset)\n",
    "    avg_recon = recon_loss_total / len(train_loader.dataset)\n",
    "    avg_kl = kl_loss_total / len(train_loader.dataset)\n",
    "    avg_class = classification_loss_total / len(train_loader.dataset)\n",
    "    accuracy = correct / total\n",
    "    \n",
    "    # print(f'====> Epoch: {epoch} Average loss: {avg_loss:.4f}, Recon: {avg_recon:.4f}, KL: {avg_kl:.4f}, '\n",
    "    #       f'Class: {avg_class:.4f}, Accuracy: {accuracy:.4f}')\n",
    "    return avg_loss, avg_recon, avg_kl, avg_class, accuracy\n",
    "\n",
    "def validate_supervised(model, scheduler, optimizer, epoch, beta, gamma):\n",
    "    model.eval()\n",
    "    val_loss = 0\n",
    "    recon_loss_total = 0\n",
    "    kl_loss_total = 0\n",
    "    classification_loss_total = 0\n",
    "    correct = 0\n",
    "    total = 0\n",
    "    \n",
    "    with torch.no_grad():\n",
    "        for data, labels in val_loader:\n",
    "            data, labels = data.to(device), labels.to(device)\n",
    "            recon_batch, mu, logvar, class_logits = model(data)\n",
    "            \n",
    "            loss, recon_loss, kl_loss, classification_loss = loss_function(\n",
    "                recon_batch, data, mu, logvar, class_logits, labels, beta, gamma\n",
    "            )\n",
    "            \n",
    "            val_loss += loss.item()\n",
    "            recon_loss_total += recon_loss.item()\n",
    "            kl_loss_total += kl_loss.item()\n",
    "            classification_loss_total += classification_loss.item()\n",
    "            \n",
    "            predicted = (class_logits > 0.5).float()\n",
    "            total += labels.size(0)\n",
    "            correct += (predicted.squeeze() == labels).sum().item()\n",
    "    \n",
    "    avg_loss = val_loss / len(val_loader.dataset)\n",
    "    avg_recon = recon_loss_total / len(val_loader.dataset)\n",
    "    avg_kl = kl_loss_total / len(val_loader.dataset)\n",
    "    avg_class = classification_loss_total / len(val_loader.dataset)\n",
    "    accuracy = correct / total\n",
    "    \n",
    "    # print(f'====> Validation loss: {avg_loss:.4f}, Recon: {avg_recon:.4f}, KL: {avg_kl:.4f}, '\n",
    "    #       f'Class: {avg_class:.4f}, Accuracy: {accuracy:.4f}')\n",
    "    return avg_loss, avg_recon, avg_kl, avg_class, accuracy\n",
    "\n",
    "\n",
    "def early_stopping(val_losses, patience):\n",
    "    if len(val_losses) > patience:\n",
    "        if all(val_losses[-i-1] <= val_losses[-i] for i in range(1, patience+1)):\n",
    "            return True\n",
    "    return False\n",
    "\n"
   ]
  },
  {
   "cell_type": "code",
   "execution_count": 346,
   "metadata": {},
   "outputs": [],
   "source": [
    "def evaluate_classifier(model, dataloader, device):\n",
    "    model.eval()\n",
    "    all_preds = []\n",
    "    all_labels = []\n",
    "    with torch.no_grad():\n",
    "        for data, labels in dataloader:\n",
    "            data = data.to(device)\n",
    "            labels = labels.to(device)\n",
    "            class_logits = model(data)[-1]\n",
    "            preds = (class_logits > 0.5).float().cpu().numpy().squeeze()\n",
    "            all_preds.extend(preds)\n",
    "            all_labels.extend(labels.cpu().numpy())\n",
    "    \n",
    "    all_preds = np.array(all_preds)\n",
    "    all_labels = np.array(all_labels)\n",
    "    \n",
    "    accuracy = accuracy_score(all_labels, all_preds)\n",
    "    class_report = classification_report(all_labels, all_preds, target_names=[\"Non-Repeater\", \"Repeater\"])\n",
    "    conf_matrix = confusion_matrix(all_labels, all_preds)\n",
    "    recall = recall_score(all_labels, all_preds, average='weighted')\n",
    "\n",
    "    \n",
    "    false_positives = np.sum((all_labels == 0) & (all_preds == 1))\n",
    "\n",
    "    return accuracy, class_report, conf_matrix, recall, false_positives  # Return F1 score as well\n",
    "\n",
    "def get_activation_function(name):\n",
    "    if name == 'ReLU':\n",
    "        return nn.ReLU()\n",
    "    elif name == 'LeakyReLU':\n",
    "        return nn.LeakyReLU(0.1)\n",
    "    elif name == 'ELU':\n",
    "        return nn.ELU()\n",
    "    elif name == 'SELU':\n",
    "        return nn.SELU()\n",
    "    elif name == 'GELU':\n",
    "        return nn.GELU()\n",
    "    else:\n",
    "        raise ValueError(f\"Unknown activation function: {name}\")"
   ]
  },
  {
   "cell_type": "code",
   "execution_count": 42,
   "metadata": {},
   "outputs": [],
   "source": [
    "def evaluate_classifier_full(model, dataloader, device):\n",
    "    model.eval()\n",
    "    all_preds = []\n",
    "    all_labels = []\n",
    "    with torch.no_grad():\n",
    "        for data, labels in dataloader:\n",
    "            data = data.to(device)\n",
    "            class_logits = model(data)[-1]\n",
    "            preds = (class_logits > 0.5).float().cpu().numpy().squeeze()\n",
    "            all_preds.extend(preds)\n",
    "            all_labels.extend(labels.cpu().numpy())\n",
    "    \n",
    "    all_preds = np.array(all_preds)\n",
    "    all_labels = np.array(all_labels)\n",
    "    \n",
    "    accuracy = accuracy_score(all_labels, all_preds)\n",
    "    class_report = classification_report(all_labels, all_preds, target_names=[\"Non-Repeater\", \"Repeater\"])\n",
    "    conf_matrix = confusion_matrix(all_labels, all_preds)\n",
    "    \n",
    "    return accuracy, class_report, conf_matrix, all_preds, all_labels\n",
    "\n",
    "original_data = pd.read_csv('frb-data.csv')\n",
    "original_data['Repeater'] = original_data['Repeater'].map({'Yes': 1, 'No': 0}).fillna(0).astype(int)"
   ]
  },
  {
   "cell_type": "code",
   "execution_count": 44,
   "metadata": {},
   "outputs": [],
   "source": [
    "garcia_list = '''\n",
    "FRB20180907E\n",
    "FRB20180920B\n",
    "FRB20180928A\n",
    "FRB20181017B\n",
    "FRB20181022E\n",
    "FRB20181125A\n",
    "FRB20181125A\n",
    "FRB20181125A\n",
    "FRB20181214A\n",
    "FRB20181220A\n",
    "FRB20181226E\n",
    "FRB20181229B\n",
    "FRB20190112A\n",
    "FRB20190128C\n",
    "FRB20190206B\n",
    "FRB20190206A\n",
    "FRB20190218B\n",
    "FRB20190223A\n",
    "FRB20190308C\n",
    "FRB20190308C\n",
    "FRB20190323D\n",
    "FRB20190329A\n",
    "FRB20190410A\n",
    "FRB20190412B\n",
    "FRB20190423B\n",
    "FRB20190423B\n",
    "FRB20190429B\n",
    "FRB20190430A\n",
    "FRB20190527A\n",
    "FRB20190527A\n",
    "FRB20190601C\n",
    "FRB20190601C\n",
    "FRB20190617B\n",
    "FRB20180910A\n",
    "FRB20190210C\n",
    "FRB20200726D\n",
    "'''.split()\n",
    "\n",
    "luo_list = '''\n",
    "FRB20181229B\n",
    "FRB20190423B\n",
    "FRB20190410A\n",
    "FRB20181017B\n",
    "FRB20181128C\n",
    "FRB20190422A\n",
    "FRB20190409B\n",
    "FRB20190329A\n",
    "FRB20190423B\n",
    "FRB20190206A\n",
    "FRB20190128C\n",
    "FRB20190106A\n",
    "FRB20190129A\n",
    "FRB20181030E\n",
    "FRB20190527A\n",
    "FRB20190218B\n",
    "FRB20190609A\n",
    "FRB20190412B\n",
    "FRB20190125B\n",
    "FRB20181231B\n",
    "FRB20181221A\n",
    "FRB20190112A\n",
    "FRB20190125A\n",
    "FRB20181218C\n",
    "FRB20190429B\n",
    "FRB20190109B\n",
    "FRB20190206B\n",
    "'''.split()\n",
    "\n",
    "zhu_ge_list = '''\n",
    "FRB20180911A\n",
    "FRB20180915B\n",
    "FRB20180920B\n",
    "FRB20180923A\n",
    "FRB20180923C\n",
    "FRB20180928A\n",
    "FRB20181013E\n",
    "FRB20181017B\n",
    "FRB20181030E\n",
    "FRB20181125A\n",
    "FRB20181125A\n",
    "FRB20181125A\n",
    "FRB20181130A\n",
    "FRB20181214A\n",
    "FRB20181220A\n",
    "FRB20181221A\n",
    "FRB20181226E\n",
    "FRB20181229B\n",
    "FRB20181231B\n",
    "FRB20190106B\n",
    "FRB20190109B\n",
    "FRB20190110C\n",
    "FRB20190111A\n",
    "FRB20190112A\n",
    "FRB20190129A\n",
    "FRB20190204A\n",
    "FRB20190206A\n",
    "FRB20190218B\n",
    "FRB20190220A\n",
    "FRB20190221A\n",
    "FRB20190222B\n",
    "FRB20190223A\n",
    "FRB20190228A\n",
    "FRB20190308C\n",
    "FRB20190308C\n",
    "FRB20190308B\n",
    "FRB20190308B\n",
    "FRB20190323D\n",
    "FRB20190329A\n",
    "FRB20190403E\n",
    "FRB20190409B\n",
    "FRB20190410A\n",
    "FRB20190412B\n",
    "FRB20190418A\n",
    "FRB20190419A\n",
    "FRB20190422A\n",
    "FRB20190422A\n",
    "FRB20190423A\n",
    "FRB20190423B\n",
    "FRB20190423B\n",
    "FRB20190429B\n",
    "FRB20190430A\n",
    "FRB20190517C\n",
    "FRB20190527A\n",
    "FRB20190527A\n",
    "FRB20190531C\n",
    "FRB20190601B\n",
    "FRB20190601C\n",
    "FRB20190601C\n",
    "FRB20190609A\n",
    "FRB20190617A\n",
    "FRB20190617B\n",
    "FRB20190618A\n",
    "FRB20190625A\n",
    "'''.split()"
   ]
  },
  {
   "cell_type": "code",
   "execution_count": 310,
   "metadata": {},
   "outputs": [
    {
     "name": "stderr",
     "output_type": "stream",
     "text": [
      "[I 2024-11-17 21:53:32,675] A new study created in memory with name: no-name-633fc457-2ba0-4cb1-8d60-428618272494\n",
      "[I 2024-11-17 21:55:13,418] Trial 0 finished with value: 0.6666666666666666 and parameters: {'hidden_dim': 279, 'latent_dim': 18, 'beta': 1.339312908392761, 'gamma': 0.5068503233303048, 'dropout_rate': 0.14106274981524086, 'activation': 'ReLU'}. Best is trial 0 with value: 0.6666666666666666.\n"
     ]
    },
    {
     "name": "stdout",
     "output_type": "stream",
     "text": [
      "\n",
      "=== Summary ===\n",
      "Total False Positives: 137\n",
      "Total False Negatives: 33\n",
      "Total True Positives: 66\n",
      "Total True Negatives: 613\n",
      "[[613. 137.]\n",
      " [ 33.  66.]]\n"
     ]
    },
    {
     "name": "stderr",
     "output_type": "stream",
     "text": [
      "[I 2024-11-17 21:56:54,684] Trial 1 finished with value: 0.6947368421052632 and parameters: {'hidden_dim': 371, 'latent_dim': 6, 'beta': 0.8987092220367706, 'gamma': 1.8852569856078423, 'dropout_rate': 0.4264255834156089, 'activation': 'ReLU'}. Best is trial 1 with value: 0.6947368421052632.\n"
     ]
    },
    {
     "name": "stdout",
     "output_type": "stream",
     "text": [
      "\n",
      "=== Summary ===\n",
      "Total False Positives: 90\n",
      "Total False Negatives: 29\n",
      "Total True Positives: 66\n",
      "Total True Negatives: 660\n",
      "[[660.  90.]\n",
      " [ 29.  66.]]\n"
     ]
    },
    {
     "name": "stderr",
     "output_type": "stream",
     "text": [
      "[I 2024-11-17 21:58:36,038] Trial 2 finished with value: 0.7415730337078652 and parameters: {'hidden_dim': 380, 'latent_dim': 6, 'beta': 0.8521615908582372, 'gamma': 0.5080368171092521, 'dropout_rate': 0.29901548376355536, 'activation': 'SELU'}. Best is trial 2 with value: 0.7415730337078652.\n"
     ]
    },
    {
     "name": "stdout",
     "output_type": "stream",
     "text": [
      "\n",
      "=== Summary ===\n",
      "Total False Positives: 137\n",
      "Total False Negatives: 23\n",
      "Total True Positives: 66\n",
      "Total True Negatives: 612\n",
      "[[612. 137.]\n",
      " [ 23.  66.]]\n"
     ]
    },
    {
     "name": "stderr",
     "output_type": "stream",
     "text": [
      "[I 2024-11-17 22:00:18,008] Trial 3 finished with value: 0.6836734693877551 and parameters: {'hidden_dim': 444, 'latent_dim': 18, 'beta': 1.8359117937102913, 'gamma': 1.5871550417469842, 'dropout_rate': 0.43801050262698604, 'activation': 'LeakyReLU'}. Best is trial 2 with value: 0.7415730337078652.\n"
     ]
    },
    {
     "name": "stdout",
     "output_type": "stream",
     "text": [
      "\n",
      "=== Summary ===\n",
      "Total False Positives: 310\n",
      "Total False Negatives: 31\n",
      "Total True Positives: 67\n",
      "Total True Negatives: 439\n",
      "[[439. 310.]\n",
      " [ 31.  67.]]\n"
     ]
    },
    {
     "name": "stderr",
     "output_type": "stream",
     "text": [
      "[I 2024-11-17 22:02:02,244] Trial 4 finished with value: 0.7096774193548387 and parameters: {'hidden_dim': 507, 'latent_dim': 11, 'beta': 0.9929888983198583, 'gamma': 1.4164687497088293, 'dropout_rate': 0.40634767744327427, 'activation': 'ReLU'}. Best is trial 2 with value: 0.7415730337078652.\n"
     ]
    },
    {
     "name": "stdout",
     "output_type": "stream",
     "text": [
      "\n",
      "=== Summary ===\n",
      "Total False Positives: 140\n",
      "Total False Negatives: 27\n",
      "Total True Positives: 66\n",
      "Total True Negatives: 610\n",
      "[[610. 140.]\n",
      " [ 27.  66.]]\n"
     ]
    },
    {
     "name": "stderr",
     "output_type": "stream",
     "text": [
      "[I 2024-11-17 22:03:40,338] Trial 5 finished with value: 0.6979166666666666 and parameters: {'hidden_dim': 143, 'latent_dim': 13, 'beta': 1.3859154295149785, 'gamma': 1.074894977515466, 'dropout_rate': 0.2257285750581952, 'activation': 'ELU'}. Best is trial 2 with value: 0.7415730337078652.\n"
     ]
    },
    {
     "name": "stdout",
     "output_type": "stream",
     "text": [
      "\n",
      "=== Summary ===\n",
      "Total False Positives: 232\n",
      "Total False Negatives: 29\n",
      "Total True Positives: 67\n",
      "Total True Negatives: 517\n",
      "[[517. 232.]\n",
      " [ 29.  67.]]\n"
     ]
    },
    {
     "name": "stderr",
     "output_type": "stream",
     "text": [
      "[I 2024-11-17 22:05:17,906] Trial 6 finished with value: 0.6534653465346535 and parameters: {'hidden_dim': 230, 'latent_dim': 20, 'beta': 1.8968670114825856, 'gamma': 1.0505645779285697, 'dropout_rate': 0.1499141381402153, 'activation': 'ELU'}. Best is trial 2 with value: 0.7415730337078652.\n"
     ]
    },
    {
     "name": "stdout",
     "output_type": "stream",
     "text": [
      "\n",
      "=== Summary ===\n",
      "Total False Positives: 280\n",
      "Total False Negatives: 35\n",
      "Total True Positives: 66\n",
      "Total True Negatives: 469\n",
      "[[469. 280.]\n",
      " [ 35.  66.]]\n"
     ]
    },
    {
     "name": "stderr",
     "output_type": "stream",
     "text": [
      "[I 2024-11-17 22:06:58,024] Trial 7 finished with value: 0.6907216494845361 and parameters: {'hidden_dim': 496, 'latent_dim': 8, 'beta': 1.5096663384727993, 'gamma': 1.6605444086419834, 'dropout_rate': 0.20040032421833578, 'activation': 'SELU'}. Best is trial 2 with value: 0.7415730337078652.\n"
     ]
    },
    {
     "name": "stdout",
     "output_type": "stream",
     "text": [
      "\n",
      "=== Summary ===\n",
      "Total False Positives: 172\n",
      "Total False Negatives: 30\n",
      "Total True Positives: 67\n",
      "Total True Negatives: 578\n",
      "[[578. 172.]\n",
      " [ 30.  67.]]\n"
     ]
    },
    {
     "name": "stderr",
     "output_type": "stream",
     "text": [
      "[I 2024-11-17 22:08:37,387] Trial 8 finished with value: 0.6907216494845361 and parameters: {'hidden_dim': 137, 'latent_dim': 15, 'beta': 0.5509667971563789, 'gamma': 0.5303727388756363, 'dropout_rate': 0.46353991573720643, 'activation': 'ELU'}. Best is trial 2 with value: 0.7415730337078652.\n"
     ]
    },
    {
     "name": "stdout",
     "output_type": "stream",
     "text": [
      "\n",
      "=== Summary ===\n",
      "Total False Positives: 185\n",
      "Total False Negatives: 30\n",
      "Total True Positives: 67\n",
      "Total True Negatives: 564\n",
      "[[564. 185.]\n",
      " [ 30.  67.]]\n"
     ]
    },
    {
     "name": "stderr",
     "output_type": "stream",
     "text": [
      "[I 2024-11-17 22:10:15,704] Trial 9 finished with value: 0.6203703703703703 and parameters: {'hidden_dim': 190, 'latent_dim': 11, 'beta': 1.7290840096521252, 'gamma': 1.8534231822979954, 'dropout_rate': 0.4828462199598378, 'activation': 'ELU'}. Best is trial 2 with value: 0.7415730337078652.\n"
     ]
    },
    {
     "name": "stdout",
     "output_type": "stream",
     "text": [
      "\n",
      "=== Summary ===\n",
      "Total False Positives: 332\n",
      "Total False Negatives: 41\n",
      "Total True Positives: 67\n",
      "Total True Negatives: 417\n",
      "[[417. 332.]\n",
      " [ 41.  67.]]\n"
     ]
    },
    {
     "name": "stderr",
     "output_type": "stream",
     "text": [
      "[I 2024-11-17 22:11:58,243] Trial 10 finished with value: 0.7764705882352941 and parameters: {'hidden_dim': 362, 'latent_dim': 5, 'beta': 0.5080510979863286, 'gamma': 0.8282475783938439, 'dropout_rate': 0.3280036533385225, 'activation': 'SELU'}. Best is trial 10 with value: 0.7764705882352941.\n"
     ]
    },
    {
     "name": "stdout",
     "output_type": "stream",
     "text": [
      "\n",
      "=== Summary ===\n",
      "Total False Positives: 105\n",
      "Total False Negatives: 19\n",
      "Total True Positives: 66\n",
      "Total True Negatives: 644\n",
      "[[644. 105.]\n",
      " [ 19.  66.]]\n"
     ]
    },
    {
     "name": "stderr",
     "output_type": "stream",
     "text": [
      "[I 2024-11-17 22:13:41,416] Trial 11 finished with value: 0.788235294117647 and parameters: {'hidden_dim': 355, 'latent_dim': 5, 'beta': 0.5002365604727008, 'gamma': 0.7855322272029938, 'dropout_rate': 0.3325257302524663, 'activation': 'SELU'}. Best is trial 11 with value: 0.788235294117647.\n"
     ]
    },
    {
     "name": "stdout",
     "output_type": "stream",
     "text": [
      "\n",
      "=== Summary ===\n",
      "Total False Positives: 108\n",
      "Total False Negatives: 18\n",
      "Total True Positives: 67\n",
      "Total True Negatives: 642\n",
      "[[642. 108.]\n",
      " [ 18.  67.]]\n"
     ]
    },
    {
     "name": "stderr",
     "output_type": "stream",
     "text": [
      "[I 2024-11-17 22:15:21,265] Trial 12 finished with value: 0.7282608695652174 and parameters: {'hidden_dim': 335, 'latent_dim': 5, 'beta': 0.5055174308735566, 'gamma': 0.8465304241835667, 'dropout_rate': 0.3311316911985932, 'activation': 'GELU'}. Best is trial 11 with value: 0.788235294117647.\n"
     ]
    },
    {
     "name": "stdout",
     "output_type": "stream",
     "text": [
      "\n",
      "=== Summary ===\n",
      "Total False Positives: 53\n",
      "Total False Negatives: 25\n",
      "Total True Positives: 67\n",
      "Total True Negatives: 697\n",
      "[[697.  53.]\n",
      " [ 25.  67.]]\n"
     ]
    },
    {
     "name": "stderr",
     "output_type": "stream",
     "text": [
      "[I 2024-11-17 22:17:04,637] Trial 13 finished with value: 0.7204301075268817 and parameters: {'hidden_dim': 412, 'latent_dim': 9, 'beta': 0.713471178524139, 'gamma': 0.8304604226503524, 'dropout_rate': 0.3369374015745339, 'activation': 'SELU'}. Best is trial 11 with value: 0.788235294117647.\n"
     ]
    },
    {
     "name": "stdout",
     "output_type": "stream",
     "text": [
      "\n",
      "=== Summary ===\n",
      "Total False Positives: 111\n",
      "Total False Negatives: 26\n",
      "Total True Positives: 67\n",
      "Total True Negatives: 638\n",
      "[[638. 111.]\n",
      " [ 26.  67.]]\n"
     ]
    },
    {
     "name": "stderr",
     "output_type": "stream",
     "text": [
      "[I 2024-11-17 22:18:46,551] Trial 14 finished with value: 0.7096774193548387 and parameters: {'hidden_dim': 281, 'latent_dim': 8, 'beta': 1.094609230136452, 'gamma': 0.7890866562293548, 'dropout_rate': 0.28457398772475323, 'activation': 'SELU'}. Best is trial 11 with value: 0.788235294117647.\n"
     ]
    },
    {
     "name": "stdout",
     "output_type": "stream",
     "text": [
      "\n",
      "=== Summary ===\n",
      "Total False Positives: 195\n",
      "Total False Negatives: 27\n",
      "Total True Positives: 66\n",
      "Total True Negatives: 554\n",
      "[[554. 195.]\n",
      " [ 27.  66.]]\n"
     ]
    },
    {
     "name": "stderr",
     "output_type": "stream",
     "text": [
      "[I 2024-11-17 22:20:29,298] Trial 15 finished with value: 0.7674418604651163 and parameters: {'hidden_dim': 308, 'latent_dim': 5, 'beta': 0.7070900829272619, 'gamma': 1.168269598201083, 'dropout_rate': 0.38652014964975046, 'activation': 'SELU'}. Best is trial 11 with value: 0.788235294117647.\n"
     ]
    },
    {
     "name": "stdout",
     "output_type": "stream",
     "text": [
      "\n",
      "=== Summary ===\n",
      "Total False Positives: 166\n",
      "Total False Negatives: 20\n",
      "Total True Positives: 66\n",
      "Total True Negatives: 584\n",
      "[[584. 166.]\n",
      " [ 20.  66.]]\n"
     ]
    },
    {
     "name": "stderr",
     "output_type": "stream",
     "text": [
      "[I 2024-11-17 22:22:12,714] Trial 16 finished with value: 0.7021276595744681 and parameters: {'hidden_dim': 446, 'latent_dim': 9, 'beta': 1.1755664778415646, 'gamma': 0.7521562831868974, 'dropout_rate': 0.26100875344618435, 'activation': 'LeakyReLU'}. Best is trial 11 with value: 0.788235294117647.\n"
     ]
    },
    {
     "name": "stdout",
     "output_type": "stream",
     "text": [
      "\n",
      "=== Summary ===\n",
      "Total False Positives: 133\n",
      "Total False Negatives: 28\n",
      "Total True Positives: 66\n",
      "Total True Negatives: 617\n",
      "[[617. 133.]\n",
      " [ 28.  66.]]\n"
     ]
    },
    {
     "name": "stderr",
     "output_type": "stream",
     "text": [
      "[I 2024-11-17 22:23:54,452] Trial 17 finished with value: 0.7586206896551724 and parameters: {'hidden_dim': 345, 'latent_dim': 7, 'beta': 0.7037466125125436, 'gamma': 1.3295168035889364, 'dropout_rate': 0.36036512137678106, 'activation': 'GELU'}. Best is trial 11 with value: 0.788235294117647.\n"
     ]
    },
    {
     "name": "stdout",
     "output_type": "stream",
     "text": [
      "\n",
      "=== Summary ===\n",
      "Total False Positives: 98\n",
      "Total False Negatives: 21\n",
      "Total True Positives: 66\n",
      "Total True Negatives: 652\n",
      "[[652.  98.]\n",
      " [ 21.  66.]]\n"
     ]
    },
    {
     "name": "stderr",
     "output_type": "stream",
     "text": [
      "[I 2024-11-17 22:25:37,330] Trial 18 finished with value: 0.8170731707317073 and parameters: {'hidden_dim': 392, 'latent_dim': 14, 'beta': 0.5100334702934927, 'gamma': 0.9550260315645138, 'dropout_rate': 0.23948356766090378, 'activation': 'SELU'}. Best is trial 18 with value: 0.8170731707317073.\n"
     ]
    },
    {
     "name": "stdout",
     "output_type": "stream",
     "text": [
      "\n",
      "=== Summary ===\n",
      "Total False Positives: 56\n",
      "Total False Negatives: 15\n",
      "Total True Positives: 67\n",
      "Total True Negatives: 693\n",
      "[[693.  56.]\n",
      " [ 15.  67.]]\n"
     ]
    },
    {
     "name": "stderr",
     "output_type": "stream",
     "text": [
      "[I 2024-11-17 22:27:19,085] Trial 19 finished with value: 0.7790697674418605 and parameters: {'hidden_dim': 411, 'latent_dim': 14, 'beta': 0.8313304934367095, 'gamma': 1.0068788505193698, 'dropout_rate': 0.21374526699821417, 'activation': 'SELU'}. Best is trial 18 with value: 0.8170731707317073.\n"
     ]
    },
    {
     "name": "stdout",
     "output_type": "stream",
     "text": [
      "\n",
      "=== Summary ===\n",
      "Total False Positives: 114\n",
      "Total False Negatives: 19\n",
      "Total True Positives: 67\n",
      "Total True Negatives: 636\n",
      "[[636. 114.]\n",
      " [ 19.  67.]]\n"
     ]
    },
    {
     "name": "stderr",
     "output_type": "stream",
     "text": [
      "[I 2024-11-17 22:28:58,152] Trial 20 finished with value: 0.6767676767676768 and parameters: {'hidden_dim': 233, 'latent_dim': 16, 'beta': 0.6442298843805825, 'gamma': 0.6594574459841982, 'dropout_rate': 0.26533036305821184, 'activation': 'SELU'}. Best is trial 18 with value: 0.8170731707317073.\n"
     ]
    },
    {
     "name": "stdout",
     "output_type": "stream",
     "text": [
      "\n",
      "=== Summary ===\n",
      "Total False Positives: 102\n",
      "Total False Negatives: 32\n",
      "Total True Positives: 67\n",
      "Total True Negatives: 648\n",
      "[[648. 102.]\n",
      " [ 32.  67.]]\n"
     ]
    },
    {
     "name": "stderr",
     "output_type": "stream",
     "text": [
      "[I 2024-11-17 22:30:41,086] Trial 21 finished with value: 0.7096774193548387 and parameters: {'hidden_dim': 412, 'latent_dim': 14, 'beta': 0.8662883686028818, 'gamma': 0.9967449183282826, 'dropout_rate': 0.20007440412424132, 'activation': 'SELU'}. Best is trial 18 with value: 0.8170731707317073.\n"
     ]
    },
    {
     "name": "stdout",
     "output_type": "stream",
     "text": [
      "\n",
      "=== Summary ===\n",
      "Total False Positives: 124\n",
      "Total False Negatives: 27\n",
      "Total True Positives: 66\n",
      "Total True Negatives: 625\n",
      "[[625. 124.]\n",
      " [ 27.  66.]]\n"
     ]
    },
    {
     "name": "stderr",
     "output_type": "stream",
     "text": [
      "[I 2024-11-17 22:32:23,869] Trial 22 finished with value: 0.7528089887640449 and parameters: {'hidden_dim': 407, 'latent_dim': 12, 'beta': 0.7942992516179151, 'gamma': 0.9636711654927929, 'dropout_rate': 0.23026072733401748, 'activation': 'SELU'}. Best is trial 18 with value: 0.8170731707317073.\n"
     ]
    },
    {
     "name": "stdout",
     "output_type": "stream",
     "text": [
      "\n",
      "=== Summary ===\n",
      "Total False Positives: 109\n",
      "Total False Negatives: 22\n",
      "Total True Positives: 67\n",
      "Total True Negatives: 640\n",
      "[[640. 109.]\n",
      " [ 22.  67.]]\n"
     ]
    },
    {
     "name": "stderr",
     "output_type": "stream",
     "text": [
      "[I 2024-11-17 22:34:04,440] Trial 23 finished with value: 0.7204301075268817 and parameters: {'hidden_dim': 319, 'latent_dim': 16, 'beta': 1.0176665320938143, 'gamma': 1.2221479920871698, 'dropout_rate': 0.1009335393114662, 'activation': 'SELU'}. Best is trial 18 with value: 0.8170731707317073.\n"
     ]
    },
    {
     "name": "stdout",
     "output_type": "stream",
     "text": [
      "\n",
      "=== Summary ===\n",
      "Total False Positives: 148\n",
      "Total False Negatives: 26\n",
      "Total True Positives: 67\n",
      "Total True Negatives: 602\n",
      "[[602. 148.]\n",
      " [ 26.  67.]]\n"
     ]
    },
    {
     "name": "stderr",
     "output_type": "stream",
     "text": [
      "[I 2024-11-17 22:35:51,051] Trial 24 finished with value: 0.7790697674418605 and parameters: {'hidden_dim': 458, 'latent_dim': 13, 'beta': 0.6152024452800844, 'gamma': 0.96682123150243, 'dropout_rate': 0.180588841653915, 'activation': 'SELU'}. Best is trial 18 with value: 0.8170731707317073.\n"
     ]
    },
    {
     "name": "stdout",
     "output_type": "stream",
     "text": [
      "\n",
      "=== Summary ===\n",
      "Total False Positives: 48\n",
      "Total False Negatives: 19\n",
      "Total True Positives: 67\n",
      "Total True Negatives: 701\n",
      "[[701.  48.]\n",
      " [ 19.  67.]]\n"
     ]
    },
    {
     "name": "stderr",
     "output_type": "stream",
     "text": [
      "[I 2024-11-17 22:37:36,743] Trial 25 finished with value: 0.7362637362637363 and parameters: {'hidden_dim': 386, 'latent_dim': 11, 'beta': 0.7713582081469504, 'gamma': 0.6452449366743541, 'dropout_rate': 0.25062245626453244, 'activation': 'LeakyReLU'}. Best is trial 18 with value: 0.8170731707317073.\n"
     ]
    },
    {
     "name": "stdout",
     "output_type": "stream",
     "text": [
      "\n",
      "=== Summary ===\n",
      "Total False Positives: 92\n",
      "Total False Negatives: 24\n",
      "Total True Positives: 67\n",
      "Total True Negatives: 658\n",
      "[[658.  92.]\n",
      " [ 24.  67.]]\n"
     ]
    },
    {
     "name": "stderr",
     "output_type": "stream",
     "text": [
      "[I 2024-11-17 22:39:20,517] Trial 26 finished with value: 0.7052631578947368 and parameters: {'hidden_dim': 474, 'latent_dim': 15, 'beta': 0.6081986334162001, 'gamma': 1.1289700848199606, 'dropout_rate': 0.2980794436990706, 'activation': 'GELU'}. Best is trial 18 with value: 0.8170731707317073.\n"
     ]
    },
    {
     "name": "stdout",
     "output_type": "stream",
     "text": [
      "\n",
      "=== Summary ===\n",
      "Total False Positives: 53\n",
      "Total False Negatives: 28\n",
      "Total True Positives: 67\n",
      "Total True Negatives: 696\n",
      "[[696.  53.]\n",
      " [ 28.  67.]]\n"
     ]
    },
    {
     "name": "stderr",
     "output_type": "stream",
     "text": [
      "[I 2024-11-17 22:41:00,345] Trial 27 finished with value: 0.7052631578947368 and parameters: {'hidden_dim': 421, 'latent_dim': 17, 'beta': 0.9722753999922973, 'gamma': 1.3223549836504076, 'dropout_rate': 0.2288608881078114, 'activation': 'SELU'}. Best is trial 18 with value: 0.8170731707317073.\n"
     ]
    },
    {
     "name": "stdout",
     "output_type": "stream",
     "text": [
      "\n",
      "=== Summary ===\n",
      "Total False Positives: 187\n",
      "Total False Negatives: 28\n",
      "Total True Positives: 67\n",
      "Total True Negatives: 563\n",
      "[[563. 187.]\n",
      " [ 28.  67.]]\n"
     ]
    },
    {
     "name": "stderr",
     "output_type": "stream",
     "text": [
      "[I 2024-11-17 22:42:42,403] Trial 28 finished with value: 0.7282608695652174 and parameters: {'hidden_dim': 294, 'latent_dim': 14, 'beta': 1.16237802744882, 'gamma': 0.9185837341751729, 'dropout_rate': 0.1592833632445233, 'activation': 'SELU'}. Best is trial 18 with value: 0.8170731707317073.\n"
     ]
    },
    {
     "name": "stdout",
     "output_type": "stream",
     "text": [
      "\n",
      "=== Summary ===\n",
      "Total False Positives: 178\n",
      "Total False Negatives: 25\n",
      "Total True Positives: 67\n",
      "Total True Negatives: 571\n",
      "[[571. 178.]\n",
      " [ 25.  67.]]\n"
     ]
    },
    {
     "name": "stderr",
     "output_type": "stream",
     "text": [
      "[I 2024-11-17 22:44:24,170] Trial 29 finished with value: 0.7701149425287356 and parameters: {'hidden_dim': 256, 'latent_dim': 19, 'beta': 0.5012887389331445, 'gamma': 0.7165189651652402, 'dropout_rate': 0.36708755161936896, 'activation': 'ReLU'}. Best is trial 18 with value: 0.8170731707317073.\n"
     ]
    },
    {
     "name": "stdout",
     "output_type": "stream",
     "text": [
      "\n",
      "=== Summary ===\n",
      "Total False Positives: 66\n",
      "Total False Negatives: 20\n",
      "Total True Positives: 67\n",
      "Total True Negatives: 684\n",
      "[[684.  66.]\n",
      " [ 20.  67.]]\n"
     ]
    },
    {
     "name": "stderr",
     "output_type": "stream",
     "text": [
      "[I 2024-11-17 22:46:05,647] Trial 30 finished with value: 0.6979166666666666 and parameters: {'hidden_dim': 347, 'latent_dim': 10, 'beta': 1.2750276787860664, 'gamma': 0.897469656494342, 'dropout_rate': 0.11487711288009174, 'activation': 'SELU'}. Best is trial 18 with value: 0.8170731707317073.\n"
     ]
    },
    {
     "name": "stdout",
     "output_type": "stream",
     "text": [
      "\n",
      "=== Summary ===\n",
      "Total False Positives: 165\n",
      "Total False Negatives: 29\n",
      "Total True Positives: 67\n",
      "Total True Negatives: 585\n",
      "[[585. 165.]\n",
      " [ 29.  67.]]\n"
     ]
    },
    {
     "name": "stderr",
     "output_type": "stream",
     "text": [
      "[I 2024-11-17 22:47:49,157] Trial 31 finished with value: 0.7701149425287356 and parameters: {'hidden_dim': 461, 'latent_dim': 13, 'beta': 0.6189774400663675, 'gamma': 0.9975286441831377, 'dropout_rate': 0.17567048019764725, 'activation': 'SELU'}. Best is trial 18 with value: 0.8170731707317073.\n"
     ]
    },
    {
     "name": "stdout",
     "output_type": "stream",
     "text": [
      "\n",
      "=== Summary ===\n",
      "Total False Positives: 68\n",
      "Total False Negatives: 20\n",
      "Total True Positives: 67\n",
      "Total True Negatives: 681\n",
      "[[681.  68.]\n",
      " [ 20.  67.]]\n"
     ]
    },
    {
     "name": "stderr",
     "output_type": "stream",
     "text": [
      "[I 2024-11-17 22:49:31,954] Trial 32 finished with value: 0.7528089887640449 and parameters: {'hidden_dim': 438, 'latent_dim': 12, 'beta': 0.651099326606625, 'gamma': 1.1265357181674875, 'dropout_rate': 0.2013413640440236, 'activation': 'SELU'}. Best is trial 18 with value: 0.8170731707317073.\n"
     ]
    },
    {
     "name": "stdout",
     "output_type": "stream",
     "text": [
      "\n",
      "=== Summary ===\n",
      "Total False Positives: 93\n",
      "Total False Negatives: 22\n",
      "Total True Positives: 67\n",
      "Total True Negatives: 657\n",
      "[[657.  93.]\n",
      " [ 22.  67.]]\n"
     ]
    },
    {
     "name": "stderr",
     "output_type": "stream",
     "text": [
      "[I 2024-11-17 22:51:14,284] Trial 33 finished with value: 0.7764705882352941 and parameters: {'hidden_dim': 389, 'latent_dim': 14, 'beta': 0.8005287328428803, 'gamma': 0.6002710215323841, 'dropout_rate': 0.17510259446734108, 'activation': 'ReLU'}. Best is trial 18 with value: 0.8170731707317073.\n"
     ]
    },
    {
     "name": "stdout",
     "output_type": "stream",
     "text": [
      "\n",
      "=== Summary ===\n",
      "Total False Positives: 65\n",
      "Total False Negatives: 19\n",
      "Total True Positives: 66\n",
      "Total True Negatives: 684\n",
      "[[684.  65.]\n",
      " [ 19.  66.]]\n"
     ]
    },
    {
     "name": "stderr",
     "output_type": "stream",
     "text": [
      "[I 2024-11-17 22:52:58,039] Trial 34 finished with value: 0.6979166666666666 and parameters: {'hidden_dim': 472, 'latent_dim': 15, 'beta': 0.9252489009217122, 'gamma': 0.9289964351541107, 'dropout_rate': 0.2789408970757791, 'activation': 'SELU'}. Best is trial 18 with value: 0.8170731707317073.\n"
     ]
    },
    {
     "name": "stdout",
     "output_type": "stream",
     "text": [
      "\n",
      "=== Summary ===\n",
      "Total False Positives: 164\n",
      "Total False Negatives: 29\n",
      "Total True Positives: 67\n",
      "Total True Negatives: 586\n",
      "[[586. 164.]\n",
      " [ 29.  67.]]\n"
     ]
    },
    {
     "name": "stderr",
     "output_type": "stream",
     "text": [
      "[I 2024-11-17 22:54:42,112] Trial 35 finished with value: 0.7362637362637363 and parameters: {'hidden_dim': 359, 'latent_dim': 17, 'beta': 0.5987396368191805, 'gamma': 1.2420808782060857, 'dropout_rate': 0.12902007000647808, 'activation': 'LeakyReLU'}. Best is trial 18 with value: 0.8170731707317073.\n"
     ]
    },
    {
     "name": "stdout",
     "output_type": "stream",
     "text": [
      "\n",
      "=== Summary ===\n",
      "Total False Positives: 33\n",
      "Total False Negatives: 24\n",
      "Total True Positives: 67\n",
      "Total True Negatives: 716\n",
      "[[716.  33.]\n",
      " [ 24.  67.]]\n"
     ]
    },
    {
     "name": "stderr",
     "output_type": "stream",
     "text": [
      "[I 2024-11-17 22:56:26,951] Trial 36 finished with value: 0.7282608695652174 and parameters: {'hidden_dim': 378, 'latent_dim': 13, 'beta': 0.7354823684462206, 'gamma': 1.0552749409878128, 'dropout_rate': 0.24169833164094456, 'activation': 'SELU'}. Best is trial 18 with value: 0.8170731707317073.\n"
     ]
    },
    {
     "name": "stdout",
     "output_type": "stream",
     "text": [
      "\n",
      "=== Summary ===\n",
      "Total False Positives: 99\n",
      "Total False Negatives: 25\n",
      "Total True Positives: 67\n",
      "Total True Negatives: 650\n",
      "[[650.  99.]\n",
      " [ 25.  67.]]\n"
     ]
    },
    {
     "name": "stderr",
     "output_type": "stream",
     "text": [
      "[I 2024-11-17 22:58:11,451] Trial 37 finished with value: 0.7065217391304348 and parameters: {'hidden_dim': 491, 'latent_dim': 12, 'beta': 0.8471871683709479, 'gamma': 1.4347516488273855, 'dropout_rate': 0.30966772634236306, 'activation': 'ReLU'}. Best is trial 18 with value: 0.8170731707317073.\n"
     ]
    },
    {
     "name": "stdout",
     "output_type": "stream",
     "text": [
      "\n",
      "=== Summary ===\n",
      "Total False Positives: 93\n",
      "Total False Negatives: 27\n",
      "Total True Positives: 65\n",
      "Total True Negatives: 657\n",
      "[[657.  93.]\n",
      " [ 27.  65.]]\n"
     ]
    },
    {
     "name": "stderr",
     "output_type": "stream",
     "text": [
      "[I 2024-11-17 22:59:56,008] Trial 38 finished with value: 0.6736842105263158 and parameters: {'hidden_dim': 432, 'latent_dim': 10, 'beta': 1.5144383096479277, 'gamma': 0.7285510154645497, 'dropout_rate': 0.213082771367185, 'activation': 'SELU'}. Best is trial 18 with value: 0.8170731707317073.\n"
     ]
    },
    {
     "name": "stdout",
     "output_type": "stream",
     "text": [
      "\n",
      "=== Summary ===\n",
      "Total False Positives: 204\n",
      "Total False Negatives: 31\n",
      "Total True Positives: 64\n",
      "Total True Negatives: 546\n",
      "[[546. 204.]\n",
      " [ 31.  64.]]\n"
     ]
    },
    {
     "name": "stderr",
     "output_type": "stream",
     "text": [
      "[I 2024-11-17 23:01:37,930] Trial 39 finished with value: 0.7976190476190477 and parameters: {'hidden_dim': 398, 'latent_dim': 14, 'beta': 0.5762344877547114, 'gamma': 1.0428795084783298, 'dropout_rate': 0.16786300402326565, 'activation': 'GELU'}. Best is trial 18 with value: 0.8170731707317073.\n"
     ]
    },
    {
     "name": "stdout",
     "output_type": "stream",
     "text": [
      "\n",
      "=== Summary ===\n",
      "Total False Positives: 39\n",
      "Total False Negatives: 17\n",
      "Total True Positives: 67\n",
      "Total True Negatives: 710\n",
      "[[710.  39.]\n",
      " [ 17.  67.]]\n"
     ]
    },
    {
     "name": "stderr",
     "output_type": "stream",
     "text": [
      "[I 2024-11-17 23:03:22,168] Trial 40 finished with value: 0.788235294117647 and parameters: {'hidden_dim': 403, 'latent_dim': 17, 'beta': 0.5865637264390953, 'gamma': 1.0421767313217625, 'dropout_rate': 0.14204243916800685, 'activation': 'GELU'}. Best is trial 18 with value: 0.8170731707317073.\n"
     ]
    },
    {
     "name": "stdout",
     "output_type": "stream",
     "text": [
      "\n",
      "=== Summary ===\n",
      "Total False Positives: 41\n",
      "Total False Negatives: 18\n",
      "Total True Positives: 67\n",
      "Total True Negatives: 708\n",
      "[[708.  41.]\n",
      " [ 18.  67.]]\n"
     ]
    },
    {
     "name": "stderr",
     "output_type": "stream",
     "text": [
      "[I 2024-11-17 23:05:03,723] Trial 41 finished with value: 0.8170731707317073 and parameters: {'hidden_dim': 392, 'latent_dim': 17, 'beta': 0.5885762428050315, 'gamma': 1.0713434816692686, 'dropout_rate': 0.1341166118248488, 'activation': 'GELU'}. Best is trial 18 with value: 0.8170731707317073.\n"
     ]
    },
    {
     "name": "stdout",
     "output_type": "stream",
     "text": [
      "\n",
      "=== Summary ===\n",
      "Total False Positives: 34\n",
      "Total False Negatives: 15\n",
      "Total True Positives: 67\n",
      "Total True Negatives: 716\n",
      "[[716.  34.]\n",
      " [ 15.  67.]]\n"
     ]
    },
    {
     "name": "stderr",
     "output_type": "stream",
     "text": [
      "[I 2024-11-17 23:06:47,624] Trial 42 finished with value: 0.8072289156626506 and parameters: {'hidden_dim': 394, 'latent_dim': 18, 'beta': 0.5544500608501866, 'gamma': 1.107469460493449, 'dropout_rate': 0.1573053477724778, 'activation': 'GELU'}. Best is trial 18 with value: 0.8170731707317073.\n"
     ]
    },
    {
     "name": "stdout",
     "output_type": "stream",
     "text": [
      "\n",
      "=== Summary ===\n",
      "Total False Positives: 37\n",
      "Total False Negatives: 16\n",
      "Total True Positives: 67\n",
      "Total True Negatives: 712\n",
      "[[712.  37.]\n",
      " [ 16.  67.]]\n"
     ]
    },
    {
     "name": "stderr",
     "output_type": "stream",
     "text": [
      "[I 2024-11-17 23:08:32,477] Trial 43 finished with value: 0.788235294117647 and parameters: {'hidden_dim': 368, 'latent_dim': 20, 'beta': 0.5520737288520327, 'gamma': 1.157466092050907, 'dropout_rate': 0.1313530485207318, 'activation': 'GELU'}. Best is trial 18 with value: 0.8170731707317073.\n"
     ]
    },
    {
     "name": "stdout",
     "output_type": "stream",
     "text": [
      "\n",
      "=== Summary ===\n",
      "Total False Positives: 18\n",
      "Total False Negatives: 18\n",
      "Total True Positives: 67\n",
      "Total True Negatives: 731\n",
      "[[731.  18.]\n",
      " [ 18.  67.]]\n"
     ]
    },
    {
     "name": "stderr",
     "output_type": "stream",
     "text": [
      "[I 2024-11-17 23:10:13,582] Trial 44 finished with value: 0.7444444444444445 and parameters: {'hidden_dim': 333, 'latent_dim': 19, 'beta': 0.6850201837779741, 'gamma': 1.333471572124085, 'dropout_rate': 0.15447774872018524, 'activation': 'GELU'}. Best is trial 18 with value: 0.8170731707317073.\n"
     ]
    },
    {
     "name": "stdout",
     "output_type": "stream",
     "text": [
      "\n",
      "=== Summary ===\n",
      "Total False Positives: 60\n",
      "Total False Negatives: 23\n",
      "Total True Positives: 67\n",
      "Total True Negatives: 690\n",
      "[[690.  60.]\n",
      " [ 23.  67.]]\n"
     ]
    },
    {
     "name": "stderr",
     "output_type": "stream",
     "text": [
      "[I 2024-11-17 23:11:53,952] Trial 45 finished with value: 0.7976190476190477 and parameters: {'hidden_dim': 392, 'latent_dim': 18, 'beta': 0.5061104204180464, 'gamma': 0.8700481814448738, 'dropout_rate': 0.1015830116231393, 'activation': 'GELU'}. Best is trial 18 with value: 0.8170731707317073.\n"
     ]
    },
    {
     "name": "stdout",
     "output_type": "stream",
     "text": [
      "\n",
      "=== Summary ===\n",
      "Total False Positives: 28\n",
      "Total False Negatives: 17\n",
      "Total True Positives: 67\n",
      "Total True Negatives: 721\n",
      "[[721.  28.]\n",
      " [ 17.  67.]]\n"
     ]
    },
    {
     "name": "stderr",
     "output_type": "stream",
     "text": [
      "[I 2024-11-17 23:13:34,942] Trial 46 finished with value: 0.8072289156626506 and parameters: {'hidden_dim': 395, 'latent_dim': 18, 'beta': 0.559614721615577, 'gamma': 0.8700265821701403, 'dropout_rate': 0.11726941366525175, 'activation': 'GELU'}. Best is trial 18 with value: 0.8170731707317073.\n"
     ]
    },
    {
     "name": "stdout",
     "output_type": "stream",
     "text": [
      "\n",
      "=== Summary ===\n",
      "Total False Positives: 44\n",
      "Total False Negatives: 16\n",
      "Total True Positives: 67\n",
      "Total True Negatives: 705\n",
      "[[705.  44.]\n",
      " [ 16.  67.]]\n"
     ]
    },
    {
     "name": "stderr",
     "output_type": "stream",
     "text": [
      "[I 2024-11-17 23:15:16,193] Trial 47 finished with value: 0.7052631578947368 and parameters: {'hidden_dim': 427, 'latent_dim': 18, 'beta': 1.5902792646547828, 'gamma': 1.5118626599017924, 'dropout_rate': 0.1226448318065426, 'activation': 'GELU'}. Best is trial 18 with value: 0.8170731707317073.\n"
     ]
    },
    {
     "name": "stdout",
     "output_type": "stream",
     "text": [
      "\n",
      "=== Summary ===\n",
      "Total False Positives: 146\n",
      "Total False Negatives: 28\n",
      "Total True Positives: 67\n",
      "Total True Negatives: 604\n",
      "[[604. 146.]\n",
      " [ 28.  67.]]\n"
     ]
    },
    {
     "name": "stderr",
     "output_type": "stream",
     "text": [
      "[I 2024-11-17 23:16:58,399] Trial 48 finished with value: 0.7790697674418605 and parameters: {'hidden_dim': 375, 'latent_dim': 19, 'beta': 0.561302444320005, 'gamma': 1.1017657072040625, 'dropout_rate': 0.16310924158537568, 'activation': 'GELU'}. Best is trial 18 with value: 0.8170731707317073.\n"
     ]
    },
    {
     "name": "stdout",
     "output_type": "stream",
     "text": [
      "\n",
      "=== Summary ===\n",
      "Total False Positives: 44\n",
      "Total False Negatives: 19\n",
      "Total True Positives: 67\n",
      "Total True Negatives: 705\n",
      "[[705.  44.]\n",
      " [ 19.  67.]]\n"
     ]
    },
    {
     "name": "stderr",
     "output_type": "stream",
     "text": [
      "[I 2024-11-17 23:18:40,531] Trial 49 finished with value: 0.717391304347826 and parameters: {'hidden_dim': 323, 'latent_dim': 16, 'beta': 0.6809631254924225, 'gamma': 1.2043565780576997, 'dropout_rate': 0.13784301294405887, 'activation': 'GELU'}. Best is trial 18 with value: 0.8170731707317073.\n"
     ]
    },
    {
     "name": "stdout",
     "output_type": "stream",
     "text": [
      "\n",
      "=== Summary ===\n",
      "Total False Positives: 60\n",
      "Total False Negatives: 26\n",
      "Total True Positives: 66\n",
      "Total True Negatives: 690\n",
      "[[690.  60.]\n",
      " [ 26.  66.]]\n"
     ]
    },
    {
     "name": "stderr",
     "output_type": "stream",
     "text": [
      "[I 2024-11-17 23:20:23,062] Trial 50 finished with value: 0.6875 and parameters: {'hidden_dim': 397, 'latent_dim': 18, 'beta': 0.9046343117213218, 'gamma': 1.2915948224225922, 'dropout_rate': 0.18035544193971703, 'activation': 'GELU'}. Best is trial 18 with value: 0.8170731707317073.\n"
     ]
    },
    {
     "name": "stdout",
     "output_type": "stream",
     "text": [
      "\n",
      "=== Summary ===\n",
      "Total False Positives: 80\n",
      "Total False Negatives: 30\n",
      "Total True Positives: 66\n",
      "Total True Negatives: 670\n",
      "[[670.  80.]\n",
      " [ 30.  66.]]\n"
     ]
    },
    {
     "name": "stderr",
     "output_type": "stream",
     "text": [
      "[I 2024-11-17 23:22:02,473] Trial 51 finished with value: 0.8481012658227848 and parameters: {'hidden_dim': 391, 'latent_dim': 18, 'beta': 0.5511658977785503, 'gamma': 0.8762974968656851, 'dropout_rate': 0.1031427940632989, 'activation': 'GELU'}. Best is trial 51 with value: 0.8481012658227848.\n"
     ]
    },
    {
     "name": "stdout",
     "output_type": "stream",
     "text": [
      "\n",
      "=== Summary ===\n",
      "Total False Positives: 31\n",
      "Total False Negatives: 12\n",
      "Total True Positives: 67\n",
      "Total True Negatives: 719\n",
      "[[719.  31.]\n",
      " [ 12.  67.]]\n"
     ]
    },
    {
     "name": "stderr",
     "output_type": "stream",
     "text": [
      "[I 2024-11-17 23:23:47,903] Trial 52 finished with value: 0.8072289156626506 and parameters: {'hidden_dim': 374, 'latent_dim': 17, 'beta': 0.7304332329368426, 'gamma': 0.8206230180626318, 'dropout_rate': 0.11188784590656235, 'activation': 'GELU'}. Best is trial 51 with value: 0.8481012658227848.\n"
     ]
    },
    {
     "name": "stdout",
     "output_type": "stream",
     "text": [
      "\n",
      "=== Summary ===\n",
      "Total False Positives: 68\n",
      "Total False Negatives: 16\n",
      "Total True Positives: 67\n",
      "Total True Negatives: 681\n",
      "[[681.  68.]\n",
      " [ 16.  67.]]\n"
     ]
    },
    {
     "name": "stderr",
     "output_type": "stream",
     "text": [
      "[I 2024-11-17 23:25:32,539] Trial 53 finished with value: 0.7701149425287356 and parameters: {'hidden_dim': 372, 'latent_dim': 17, 'beta': 0.7582237393437206, 'gamma': 0.8114181830458703, 'dropout_rate': 0.1133636823373449, 'activation': 'ELU'}. Best is trial 51 with value: 0.8481012658227848.\n"
     ]
    },
    {
     "name": "stdout",
     "output_type": "stream",
     "text": [
      "\n",
      "=== Summary ===\n",
      "Total False Positives: 104\n",
      "Total False Negatives: 20\n",
      "Total True Positives: 67\n",
      "Total True Negatives: 646\n",
      "[[646. 104.]\n",
      " [ 20.  67.]]\n"
     ]
    },
    {
     "name": "stderr",
     "output_type": "stream",
     "text": [
      "[I 2024-11-17 23:27:16,674] Trial 54 finished with value: 0.7674418604651163 and parameters: {'hidden_dim': 352, 'latent_dim': 19, 'beta': 0.6818819702314036, 'gamma': 0.8878966073200164, 'dropout_rate': 0.14272460569682535, 'activation': 'GELU'}. Best is trial 51 with value: 0.8481012658227848.\n"
     ]
    },
    {
     "name": "stdout",
     "output_type": "stream",
     "text": [
      "\n",
      "=== Summary ===\n",
      "Total False Positives: 47\n",
      "Total False Negatives: 20\n",
      "Total True Positives: 66\n",
      "Total True Negatives: 702\n",
      "[[702.  47.]\n",
      " [ 20.  66.]]\n"
     ]
    },
    {
     "name": "stderr",
     "output_type": "stream",
     "text": [
      "[I 2024-11-17 23:28:57,279] Trial 55 finished with value: 0.881578947368421 and parameters: {'hidden_dim': 420, 'latent_dim': 20, 'beta': 0.5507149759264907, 'gamma': 1.7790440339348805, 'dropout_rate': 0.11384375970675616, 'activation': 'GELU'}. Best is trial 55 with value: 0.881578947368421.\n"
     ]
    },
    {
     "name": "stdout",
     "output_type": "stream",
     "text": [
      "\n",
      "=== Summary ===\n",
      "Total False Positives: 30\n",
      "Total False Negatives: 9\n",
      "Total True Positives: 67\n",
      "Total True Negatives: 719\n",
      "[[719.  30.]\n",
      " [  9.  67.]]\n"
     ]
    },
    {
     "name": "stderr",
     "output_type": "stream",
     "text": [
      "[I 2024-11-17 23:30:41,103] Trial 56 finished with value: 0.788235294117647 and parameters: {'hidden_dim': 450, 'latent_dim': 20, 'beta': 0.5638348766981331, 'gamma': 1.9490651455829489, 'dropout_rate': 0.14918647769891805, 'activation': 'GELU'}. Best is trial 55 with value: 0.881578947368421.\n"
     ]
    },
    {
     "name": "stdout",
     "output_type": "stream",
     "text": [
      "\n",
      "=== Summary ===\n",
      "Total False Positives: 37\n",
      "Total False Negatives: 18\n",
      "Total True Positives: 67\n",
      "Total True Negatives: 713\n",
      "[[713.  37.]\n",
      " [ 18.  67.]]\n"
     ]
    },
    {
     "name": "stderr",
     "output_type": "stream",
     "text": [
      "[I 2024-11-17 23:32:21,138] Trial 57 finished with value: 0.8375 and parameters: {'hidden_dim': 418, 'latent_dim': 18, 'beta': 0.6429583227148818, 'gamma': 1.7726409710202127, 'dropout_rate': 0.1932356153574434, 'activation': 'GELU'}. Best is trial 55 with value: 0.881578947368421.\n"
     ]
    },
    {
     "name": "stdout",
     "output_type": "stream",
     "text": [
      "\n",
      "=== Summary ===\n",
      "Total False Positives: 34\n",
      "Total False Negatives: 13\n",
      "Total True Positives: 67\n",
      "Total True Negatives: 715\n",
      "[[715.  34.]\n",
      " [ 13.  67.]]\n"
     ]
    },
    {
     "name": "stderr",
     "output_type": "stream",
     "text": [
      "[I 2024-11-17 23:34:04,964] Trial 58 finished with value: 0.7857142857142857 and parameters: {'hidden_dim': 421, 'latent_dim': 20, 'beta': 0.6336787712175549, 'gamma': 1.8113988340409661, 'dropout_rate': 0.19275776389268, 'activation': 'ELU'}. Best is trial 55 with value: 0.881578947368421.\n"
     ]
    },
    {
     "name": "stdout",
     "output_type": "stream",
     "text": [
      "\n",
      "=== Summary ===\n",
      "Total False Positives: 71\n",
      "Total False Negatives: 18\n",
      "Total True Positives: 66\n",
      "Total True Negatives: 678\n",
      "[[678.  71.]\n",
      " [ 18.  66.]]\n"
     ]
    },
    {
     "name": "stderr",
     "output_type": "stream",
     "text": [
      "[I 2024-11-17 23:35:50,988] Trial 59 finished with value: 0.7613636363636364 and parameters: {'hidden_dim': 439, 'latent_dim': 19, 'beta': 0.6531448977426002, 'gamma': 1.718730823288581, 'dropout_rate': 0.12746091497975376, 'activation': 'GELU'}. Best is trial 55 with value: 0.881578947368421.\n"
     ]
    },
    {
     "name": "stdout",
     "output_type": "stream",
     "text": [
      "\n",
      "=== Summary ===\n",
      "Total False Positives: 37\n",
      "Total False Negatives: 21\n",
      "Total True Positives: 67\n",
      "Total True Negatives: 713\n",
      "[[713.  37.]\n",
      " [ 21.  67.]]\n"
     ]
    },
    {
     "name": "stderr",
     "output_type": "stream",
     "text": [
      "[I 2024-11-17 23:37:36,059] Trial 60 finished with value: 0.8481012658227848 and parameters: {'hidden_dim': 508, 'latent_dim': 16, 'beta': 0.5390343079394431, 'gamma': 1.6818389254057702, 'dropout_rate': 0.21562177522659853, 'activation': 'GELU'}. Best is trial 55 with value: 0.881578947368421.\n"
     ]
    },
    {
     "name": "stdout",
     "output_type": "stream",
     "text": [
      "\n",
      "=== Summary ===\n",
      "Total False Positives: 26\n",
      "Total False Negatives: 12\n",
      "Total True Positives: 67\n",
      "Total True Negatives: 724\n",
      "[[724.  26.]\n",
      " [ 12.  67.]]\n"
     ]
    },
    {
     "name": "stderr",
     "output_type": "stream",
     "text": [
      "[I 2024-11-17 23:39:18,929] Trial 61 finished with value: 0.8701298701298701 and parameters: {'hidden_dim': 500, 'latent_dim': 16, 'beta': 0.5099036281785101, 'gamma': 1.7600985385958459, 'dropout_rate': 0.19143423443740384, 'activation': 'GELU'}. Best is trial 55 with value: 0.881578947368421.\n"
     ]
    },
    {
     "name": "stdout",
     "output_type": "stream",
     "text": [
      "\n",
      "=== Summary ===\n",
      "Total False Positives: 35\n",
      "Total False Negatives: 10\n",
      "Total True Positives: 67\n",
      "Total True Negatives: 715\n",
      "[[715.  35.]\n",
      " [ 10.  67.]]\n"
     ]
    },
    {
     "name": "stderr",
     "output_type": "stream",
     "text": [
      "[I 2024-11-17 23:40:58,133] Trial 62 finished with value: 0.8701298701298701 and parameters: {'hidden_dim': 500, 'latent_dim': 16, 'beta': 0.5271585775847245, 'gamma': 1.7088413183166629, 'dropout_rate': 0.21467840288733503, 'activation': 'GELU'}. Best is trial 55 with value: 0.881578947368421.\n"
     ]
    },
    {
     "name": "stdout",
     "output_type": "stream",
     "text": [
      "\n",
      "=== Summary ===\n",
      "Total False Positives: 37\n",
      "Total False Negatives: 10\n",
      "Total True Positives: 67\n",
      "Total True Negatives: 713\n",
      "[[713.  37.]\n",
      " [ 10.  67.]]\n"
     ]
    },
    {
     "name": "stderr",
     "output_type": "stream",
     "text": [
      "[I 2024-11-17 23:42:41,966] Trial 63 finished with value: 0.7790697674418605 and parameters: {'hidden_dim': 501, 'latent_dim': 16, 'beta': 0.5200490267396397, 'gamma': 1.6818987854787175, 'dropout_rate': 0.21345532896561153, 'activation': 'GELU'}. Best is trial 55 with value: 0.881578947368421.\n"
     ]
    },
    {
     "name": "stdout",
     "output_type": "stream",
     "text": [
      "\n",
      "=== Summary ===\n",
      "Total False Positives: 30\n",
      "Total False Negatives: 19\n",
      "Total True Positives: 67\n",
      "Total True Negatives: 719\n",
      "[[719.  30.]\n",
      " [ 19.  67.]]\n"
     ]
    },
    {
     "name": "stderr",
     "output_type": "stream",
     "text": [
      "[I 2024-11-17 23:44:25,338] Trial 64 finished with value: 0.8170731707317073 and parameters: {'hidden_dim': 493, 'latent_dim': 15, 'beta': 0.5277810060994815, 'gamma': 1.772126727943758, 'dropout_rate': 0.19023095000868973, 'activation': 'GELU'}. Best is trial 55 with value: 0.881578947368421.\n"
     ]
    },
    {
     "name": "stdout",
     "output_type": "stream",
     "text": [
      "\n",
      "=== Summary ===\n",
      "Total False Positives: 41\n",
      "Total False Negatives: 15\n",
      "Total True Positives: 67\n",
      "Total True Negatives: 708\n",
      "[[708.  41.]\n",
      " [ 15.  67.]]\n"
     ]
    },
    {
     "name": "stderr",
     "output_type": "stream",
     "text": [
      "[I 2024-11-17 23:46:13,459] Trial 65 finished with value: 0.6979166666666666 and parameters: {'hidden_dim': 510, 'latent_dim': 15, 'beta': 1.3765609542592288, 'gamma': 1.896082289096864, 'dropout_rate': 0.25319542856395055, 'activation': 'LeakyReLU'}. Best is trial 55 with value: 0.881578947368421.\n"
     ]
    },
    {
     "name": "stdout",
     "output_type": "stream",
     "text": [
      "\n",
      "=== Summary ===\n",
      "Total False Positives: 134\n",
      "Total False Negatives: 29\n",
      "Total True Positives: 67\n",
      "Total True Negatives: 616\n",
      "[[616. 134.]\n",
      " [ 29.  67.]]\n"
     ]
    },
    {
     "name": "stderr",
     "output_type": "stream",
     "text": [
      "[I 2024-11-17 23:47:57,663] Trial 66 finished with value: 0.8271604938271605 and parameters: {'hidden_dim': 482, 'latent_dim': 16, 'beta': 0.6618235152117128, 'gamma': 1.554336548075035, 'dropout_rate': 0.2409581214620112, 'activation': 'GELU'}. Best is trial 55 with value: 0.881578947368421.\n"
     ]
    },
    {
     "name": "stdout",
     "output_type": "stream",
     "text": [
      "\n",
      "=== Summary ===\n",
      "Total False Positives: 65\n",
      "Total False Negatives: 14\n",
      "Total True Positives: 67\n",
      "Total True Negatives: 684\n",
      "[[684.  65.]\n",
      " [ 14.  67.]]\n"
     ]
    },
    {
     "name": "stderr",
     "output_type": "stream",
     "text": [
      "[I 2024-11-17 23:49:41,536] Trial 67 finished with value: 0.673469387755102 and parameters: {'hidden_dim': 478, 'latent_dim': 16, 'beta': 1.9285720721202362, 'gamma': 1.602751854002623, 'dropout_rate': 0.2702494206707199, 'activation': 'GELU'}. Best is trial 55 with value: 0.881578947368421.\n"
     ]
    },
    {
     "name": "stdout",
     "output_type": "stream",
     "text": [
      "\n",
      "=== Summary ===\n",
      "Total False Positives: 199\n",
      "Total False Negatives: 32\n",
      "Total True Positives: 66\n",
      "Total True Negatives: 550\n",
      "[[550. 199.]\n",
      " [ 32.  66.]]\n"
     ]
    },
    {
     "name": "stderr",
     "output_type": "stream",
     "text": [
      "[I 2024-11-17 23:51:26,914] Trial 68 finished with value: 0.7021276595744681 and parameters: {'hidden_dim': 479, 'latent_dim': 16, 'beta': 1.8140094200156205, 'gamma': 1.6118462552243993, 'dropout_rate': 0.21880573800368075, 'activation': 'GELU'}. Best is trial 55 with value: 0.881578947368421.\n"
     ]
    },
    {
     "name": "stdout",
     "output_type": "stream",
     "text": [
      "\n",
      "=== Summary ===\n",
      "Total False Positives: 163\n",
      "Total False Negatives: 28\n",
      "Total True Positives: 66\n",
      "Total True Negatives: 586\n",
      "[[586. 163.]\n",
      " [ 28.  66.]]\n"
     ]
    },
    {
     "name": "stderr",
     "output_type": "stream",
     "text": [
      "[I 2024-11-17 23:53:13,421] Trial 69 finished with value: 0.7127659574468085 and parameters: {'hidden_dim': 461, 'latent_dim': 19, 'beta': 0.8083720043956162, 'gamma': 1.51003667567501, 'dropout_rate': 0.4349815167881116, 'activation': 'GELU'}. Best is trial 55 with value: 0.881578947368421.\n"
     ]
    },
    {
     "name": "stdout",
     "output_type": "stream",
     "text": [
      "\n",
      "=== Summary ===\n",
      "Total False Positives: 95\n",
      "Total False Negatives: 27\n",
      "Total True Positives: 67\n",
      "Total True Negatives: 654\n",
      "[[654.  95.]\n",
      " [ 27.  67.]]\n"
     ]
    },
    {
     "name": "stderr",
     "output_type": "stream",
     "text": [
      "[I 2024-11-17 23:54:55,735] Trial 70 finished with value: 0.7528089887640449 and parameters: {'hidden_dim': 512, 'latent_dim': 16, 'beta': 0.656846787954912, 'gamma': 1.75097960927899, 'dropout_rate': 0.23801221777770226, 'activation': 'GELU'}. Best is trial 55 with value: 0.881578947368421.\n"
     ]
    },
    {
     "name": "stdout",
     "output_type": "stream",
     "text": [
      "\n",
      "=== Summary ===\n",
      "Total False Positives: 39\n",
      "Total False Negatives: 22\n",
      "Total True Positives: 67\n",
      "Total True Negatives: 710\n",
      "[[710.  39.]\n",
      " [ 22.  67.]]\n"
     ]
    },
    {
     "name": "stderr",
     "output_type": "stream",
     "text": [
      "[I 2024-11-17 23:56:38,553] Trial 71 finished with value: 0.8375 and parameters: {'hidden_dim': 485, 'latent_dim': 15, 'beta': 0.6099041258827824, 'gamma': 1.8413795561069803, 'dropout_rate': 0.20450250842320072, 'activation': 'GELU'}. Best is trial 55 with value: 0.881578947368421.\n"
     ]
    },
    {
     "name": "stdout",
     "output_type": "stream",
     "text": [
      "\n",
      "=== Summary ===\n",
      "Total False Positives: 39\n",
      "Total False Negatives: 13\n",
      "Total True Positives: 67\n",
      "Total True Negatives: 710\n",
      "[[710.  39.]\n",
      " [ 13.  67.]]\n"
     ]
    },
    {
     "name": "stderr",
     "output_type": "stream",
     "text": [
      "[I 2024-11-17 23:58:14,541] Trial 72 finished with value: 0.7790697674418605 and parameters: {'hidden_dim': 487, 'latent_dim': 15, 'beta': 0.6047387964989375, 'gamma': 1.8391130155835995, 'dropout_rate': 0.20234723103551389, 'activation': 'GELU'}. Best is trial 55 with value: 0.881578947368421.\n"
     ]
    },
    {
     "name": "stdout",
     "output_type": "stream",
     "text": [
      "\n",
      "=== Summary ===\n",
      "Total False Positives: 35\n",
      "Total False Negatives: 19\n",
      "Total True Positives: 67\n",
      "Total True Negatives: 715\n",
      "[[715.  35.]\n",
      " [ 19.  67.]]\n"
     ]
    },
    {
     "name": "stderr",
     "output_type": "stream",
     "text": [
      "[I 2024-11-17 23:59:54,821] Trial 73 finished with value: 0.75 and parameters: {'hidden_dim': 501, 'latent_dim': 17, 'beta': 0.7132942778340672, 'gamma': 1.9949986497884296, 'dropout_rate': 0.22425615025689252, 'activation': 'GELU'}. Best is trial 55 with value: 0.881578947368421.\n"
     ]
    },
    {
     "name": "stdout",
     "output_type": "stream",
     "text": [
      "\n",
      "=== Summary ===\n",
      "Total False Positives: 67\n",
      "Total False Negatives: 22\n",
      "Total True Positives: 66\n",
      "Total True Negatives: 682\n",
      "[[682.  67.]\n",
      " [ 22.  66.]]\n"
     ]
    },
    {
     "name": "stderr",
     "output_type": "stream",
     "text": [
      "[I 2024-11-18 00:01:34,445] Trial 74 finished with value: 0.8375 and parameters: {'hidden_dim': 469, 'latent_dim': 18, 'beta': 0.7603997575749087, 'gamma': 1.6570422004277419, 'dropout_rate': 0.184393499914961, 'activation': 'GELU'}. Best is trial 55 with value: 0.881578947368421.\n"
     ]
    },
    {
     "name": "stdout",
     "output_type": "stream",
     "text": [
      "\n",
      "=== Summary ===\n",
      "Total False Positives: 57\n",
      "Total False Negatives: 13\n",
      "Total True Positives: 67\n",
      "Total True Negatives: 693\n",
      "[[693.  57.]\n",
      " [ 13.  67.]]\n"
     ]
    },
    {
     "name": "stderr",
     "output_type": "stream",
     "text": [
      "[I 2024-11-18 00:03:15,821] Trial 75 finished with value: 0.7701149425287356 and parameters: {'hidden_dim': 466, 'latent_dim': 18, 'beta': 0.7580403201488852, 'gamma': 1.6668473407478928, 'dropout_rate': 0.19678897363718423, 'activation': 'ReLU'}. Best is trial 55 with value: 0.881578947368421.\n"
     ]
    },
    {
     "name": "stdout",
     "output_type": "stream",
     "text": [
      "\n",
      "=== Summary ===\n",
      "Total False Positives: 56\n",
      "Total False Negatives: 20\n",
      "Total True Positives: 67\n",
      "Total True Negatives: 693\n",
      "[[693.  56.]\n",
      " [ 20.  67.]]\n"
     ]
    },
    {
     "name": "stderr",
     "output_type": "stream",
     "text": [
      "[I 2024-11-18 00:04:53,379] Trial 76 finished with value: 0.7613636363636364 and parameters: {'hidden_dim': 452, 'latent_dim': 20, 'beta': 0.6208367960066772, 'gamma': 1.904372064057997, 'dropout_rate': 0.18120215528665437, 'activation': 'GELU'}. Best is trial 55 with value: 0.881578947368421.\n"
     ]
    },
    {
     "name": "stdout",
     "output_type": "stream",
     "text": [
      "\n",
      "=== Summary ===\n",
      "Total False Positives: 49\n",
      "Total False Negatives: 21\n",
      "Total True Positives: 67\n",
      "Total True Negatives: 700\n",
      "[[700.  49.]\n",
      " [ 21.  67.]]\n"
     ]
    },
    {
     "name": "stderr",
     "output_type": "stream",
     "text": [
      "[I 2024-11-18 00:06:28,984] Trial 77 finished with value: 0.8048780487804879 and parameters: {'hidden_dim': 153, 'latent_dim': 18, 'beta': 0.5020512994572597, 'gamma': 1.7794155996513508, 'dropout_rate': 0.2089692026376291, 'activation': 'ELU'}. Best is trial 55 with value: 0.881578947368421.\n"
     ]
    },
    {
     "name": "stdout",
     "output_type": "stream",
     "text": [
      "\n",
      "=== Summary ===\n",
      "Total False Positives: 104\n",
      "Total False Negatives: 16\n",
      "Total True Positives: 66\n",
      "Total True Negatives: 646\n",
      "[[646. 104.]\n",
      " [ 16.  66.]]\n"
     ]
    },
    {
     "name": "stderr",
     "output_type": "stream",
     "text": [
      "[I 2024-11-18 00:08:07,037] Trial 78 finished with value: 0.7333333333333333 and parameters: {'hidden_dim': 492, 'latent_dim': 17, 'beta': 1.0440627229642674, 'gamma': 1.7173408497224774, 'dropout_rate': 0.16595040033915542, 'activation': 'GELU'}. Best is trial 55 with value: 0.881578947368421.\n"
     ]
    },
    {
     "name": "stdout",
     "output_type": "stream",
     "text": [
      "\n",
      "=== Summary ===\n",
      "Total False Positives: 104\n",
      "Total False Negatives: 24\n",
      "Total True Positives: 66\n",
      "Total True Negatives: 646\n",
      "[[646. 104.]\n",
      " [ 24.  66.]]\n"
     ]
    },
    {
     "name": "stderr",
     "output_type": "stream",
     "text": [
      "[I 2024-11-18 00:09:44,499] Trial 79 finished with value: 0.7701149425287356 and parameters: {'hidden_dim': 469, 'latent_dim': 19, 'beta': 0.5415308772198264, 'gamma': 1.8556717290648905, 'dropout_rate': 0.18715618860988287, 'activation': 'LeakyReLU'}. Best is trial 55 with value: 0.881578947368421.\n"
     ]
    },
    {
     "name": "stdout",
     "output_type": "stream",
     "text": [
      "\n",
      "=== Summary ===\n",
      "Total False Positives: 33\n",
      "Total False Negatives: 20\n",
      "Total True Positives: 67\n",
      "Total True Negatives: 716\n",
      "[[716.  33.]\n",
      " [ 20.  67.]]\n"
     ]
    },
    {
     "name": "stderr",
     "output_type": "stream",
     "text": [
      "[I 2024-11-18 00:11:24,051] Trial 80 finished with value: 0.8375 and parameters: {'hidden_dim': 504, 'latent_dim': 15, 'beta': 0.6248447970648341, 'gamma': 1.6236014193974049, 'dropout_rate': 0.17247890631793775, 'activation': 'GELU'}. Best is trial 55 with value: 0.881578947368421.\n"
     ]
    },
    {
     "name": "stdout",
     "output_type": "stream",
     "text": [
      "\n",
      "=== Summary ===\n",
      "Total False Positives: 59\n",
      "Total False Negatives: 13\n",
      "Total True Positives: 67\n",
      "Total True Negatives: 691\n",
      "[[691.  59.]\n",
      " [ 13.  67.]]\n"
     ]
    },
    {
     "name": "stderr",
     "output_type": "stream",
     "text": [
      "[I 2024-11-18 00:13:03,234] Trial 81 finished with value: 0.8375 and parameters: {'hidden_dim': 501, 'latent_dim': 14, 'beta': 0.6139390206418694, 'gamma': 1.7058178451484918, 'dropout_rate': 0.1683216136702354, 'activation': 'GELU'}. Best is trial 55 with value: 0.881578947368421.\n"
     ]
    },
    {
     "name": "stdout",
     "output_type": "stream",
     "text": [
      "\n",
      "=== Summary ===\n",
      "Total False Positives: 48\n",
      "Total False Negatives: 13\n",
      "Total True Positives: 67\n",
      "Total True Negatives: 702\n",
      "[[702.  48.]\n",
      " [ 13.  67.]]\n"
     ]
    },
    {
     "name": "stderr",
     "output_type": "stream",
     "text": [
      "[I 2024-11-18 00:14:42,033] Trial 82 finished with value: 0.8375 and parameters: {'hidden_dim': 487, 'latent_dim': 15, 'beta': 0.5841710490612224, 'gamma': 1.6379035114723761, 'dropout_rate': 0.14873349648390605, 'activation': 'GELU'}. Best is trial 55 with value: 0.881578947368421.\n"
     ]
    },
    {
     "name": "stdout",
     "output_type": "stream",
     "text": [
      "\n",
      "=== Summary ===\n",
      "Total False Positives: 34\n",
      "Total False Negatives: 13\n",
      "Total True Positives: 67\n",
      "Total True Negatives: 715\n",
      "[[715.  34.]\n",
      " [ 13.  67.]]\n"
     ]
    },
    {
     "name": "stderr",
     "output_type": "stream",
     "text": [
      "[I 2024-11-18 00:16:19,858] Trial 83 finished with value: 0.788235294117647 and parameters: {'hidden_dim': 508, 'latent_dim': 15, 'beta': 0.7079178204470566, 'gamma': 1.8064257175553105, 'dropout_rate': 0.22841242633148373, 'activation': 'GELU'}. Best is trial 55 with value: 0.881578947368421.\n"
     ]
    },
    {
     "name": "stdout",
     "output_type": "stream",
     "text": [
      "\n",
      "=== Summary ===\n",
      "Total False Positives: 52\n",
      "Total False Negatives: 18\n",
      "Total True Positives: 67\n",
      "Total True Negatives: 698\n",
      "[[698.  52.]\n",
      " [ 18.  67.]]\n"
     ]
    },
    {
     "name": "stderr",
     "output_type": "stream",
     "text": [
      "[I 2024-11-18 00:17:56,077] Trial 84 finished with value: 0.8072289156626506 and parameters: {'hidden_dim': 453, 'latent_dim': 17, 'beta': 0.6363035627613642, 'gamma': 1.560589124192556, 'dropout_rate': 0.2074976220478319, 'activation': 'GELU'}. Best is trial 55 with value: 0.881578947368421.\n"
     ]
    },
    {
     "name": "stdout",
     "output_type": "stream",
     "text": [
      "\n",
      "=== Summary ===\n",
      "Total False Positives: 54\n",
      "Total False Negatives: 16\n",
      "Total True Positives: 67\n",
      "Total True Negatives: 695\n",
      "[[695.  54.]\n",
      " [ 16.  67.]]\n"
     ]
    },
    {
     "name": "stderr",
     "output_type": "stream",
     "text": [
      "[I 2024-11-18 00:19:34,090] Trial 85 finished with value: 0.9178082191780822 and parameters: {'hidden_dim': 476, 'latent_dim': 16, 'beta': 0.5494693076818475, 'gamma': 1.7424041881705277, 'dropout_rate': 0.10253196823027107, 'activation': 'GELU'}. Best is trial 85 with value: 0.9178082191780822.\n"
     ]
    },
    {
     "name": "stdout",
     "output_type": "stream",
     "text": [
      "\n",
      "=== Summary ===\n",
      "Total False Positives: 31\n",
      "Total False Negatives: 6\n",
      "Total True Positives: 67\n",
      "Total True Negatives: 718\n",
      "[[718.  31.]\n",
      " [  6.  67.]]\n"
     ]
    },
    {
     "name": "stderr",
     "output_type": "stream",
     "text": [
      "[I 2024-11-18 00:21:13,041] Trial 86 finished with value: 0.8072289156626506 and parameters: {'hidden_dim': 441, 'latent_dim': 16, 'beta': 0.5342799477953152, 'gamma': 1.9328232497011837, 'dropout_rate': 0.10015759857814506, 'activation': 'GELU'}. Best is trial 85 with value: 0.9178082191780822.\n"
     ]
    },
    {
     "name": "stdout",
     "output_type": "stream",
     "text": [
      "\n",
      "=== Summary ===\n",
      "Total False Positives: 45\n",
      "Total False Negatives: 16\n",
      "Total True Positives: 67\n",
      "Total True Negatives: 704\n",
      "[[704.  45.]\n",
      " [ 16.  67.]]\n"
     ]
    },
    {
     "name": "stderr",
     "output_type": "stream",
     "text": [
      "[I 2024-11-18 00:22:51,911] Trial 87 finished with value: 0.788235294117647 and parameters: {'hidden_dim': 471, 'latent_dim': 18, 'beta': 0.5808931644356645, 'gamma': 1.7415414115125099, 'dropout_rate': 0.11022316832214721, 'activation': 'GELU'}. Best is trial 85 with value: 0.9178082191780822.\n"
     ]
    },
    {
     "name": "stdout",
     "output_type": "stream",
     "text": [
      "\n",
      "=== Summary ===\n",
      "Total False Positives: 32\n",
      "Total False Negatives: 18\n",
      "Total True Positives: 67\n",
      "Total True Negatives: 717\n",
      "[[717.  32.]\n",
      " [ 18.  67.]]\n"
     ]
    },
    {
     "name": "stderr",
     "output_type": "stream",
     "text": [
      "[I 2024-11-18 00:24:31,166] Trial 88 finished with value: 0.7528089887640449 and parameters: {'hidden_dim': 419, 'latent_dim': 17, 'beta': 0.5402457555745956, 'gamma': 1.8513097553784756, 'dropout_rate': 0.3117807590025178, 'activation': 'ReLU'}. Best is trial 85 with value: 0.9178082191780822.\n"
     ]
    },
    {
     "name": "stdout",
     "output_type": "stream",
     "text": [
      "\n",
      "=== Summary ===\n",
      "Total False Positives: 44\n",
      "Total False Negatives: 22\n",
      "Total True Positives: 67\n",
      "Total True Negatives: 705\n",
      "[[705.  44.]\n",
      " [ 22.  67.]]\n"
     ]
    },
    {
     "name": "stderr",
     "output_type": "stream",
     "text": [
      "[I 2024-11-18 00:26:08,608] Trial 89 finished with value: 0.6504854368932039 and parameters: {'hidden_dim': 482, 'latent_dim': 16, 'beta': 1.9969797482634863, 'gamma': 1.7949918578799875, 'dropout_rate': 0.12159317071778722, 'activation': 'GELU'}. Best is trial 85 with value: 0.9178082191780822.\n"
     ]
    },
    {
     "name": "stdout",
     "output_type": "stream",
     "text": [
      "\n",
      "=== Summary ===\n",
      "Total False Positives: 208\n",
      "Total False Negatives: 36\n",
      "Total True Positives: 67\n",
      "Total True Negatives: 541\n",
      "[[541. 208.]\n",
      " [ 36.  67.]]\n"
     ]
    },
    {
     "name": "stderr",
     "output_type": "stream",
     "text": [
      "[I 2024-11-18 00:27:44,645] Trial 90 finished with value: 0.8375 and parameters: {'hidden_dim': 433, 'latent_dim': 18, 'beta': 0.6743860045324671, 'gamma': 1.675026294846801, 'dropout_rate': 0.1871826926403362, 'activation': 'GELU'}. Best is trial 85 with value: 0.9178082191780822.\n"
     ]
    },
    {
     "name": "stdout",
     "output_type": "stream",
     "text": [
      "\n",
      "=== Summary ===\n",
      "Total False Positives: 48\n",
      "Total False Negatives: 13\n",
      "Total True Positives: 67\n",
      "Total True Negatives: 701\n",
      "[[701.  48.]\n",
      " [ 13.  67.]]\n"
     ]
    },
    {
     "name": "stderr",
     "output_type": "stream",
     "text": [
      "[I 2024-11-18 00:29:22,272] Trial 91 finished with value: 0.8271604938271605 and parameters: {'hidden_dim': 499, 'latent_dim': 14, 'beta': 0.5864835944323425, 'gamma': 1.6208067952199874, 'dropout_rate': 0.17016060561707697, 'activation': 'GELU'}. Best is trial 85 with value: 0.9178082191780822.\n"
     ]
    },
    {
     "name": "stdout",
     "output_type": "stream",
     "text": [
      "\n",
      "=== Summary ===\n",
      "Total False Positives: 35\n",
      "Total False Negatives: 14\n",
      "Total True Positives: 67\n",
      "Total True Negatives: 714\n",
      "[[714.  35.]\n",
      " [ 14.  67.]]\n"
     ]
    },
    {
     "name": "stderr",
     "output_type": "stream",
     "text": [
      "[I 2024-11-18 00:31:02,764] Trial 92 finished with value: 0.7790697674418605 and parameters: {'hidden_dim': 461, 'latent_dim': 15, 'beta': 0.6214714294436088, 'gamma': 1.7496519838156648, 'dropout_rate': 0.22260221477074624, 'activation': 'GELU'}. Best is trial 85 with value: 0.9178082191780822.\n"
     ]
    },
    {
     "name": "stdout",
     "output_type": "stream",
     "text": [
      "\n",
      "=== Summary ===\n",
      "Total False Positives: 43\n",
      "Total False Negatives: 19\n",
      "Total True Positives: 67\n",
      "Total True Negatives: 706\n",
      "[[706.  43.]\n",
      " [ 19.  67.]]\n"
     ]
    },
    {
     "name": "stderr",
     "output_type": "stream",
     "text": [
      "[I 2024-11-18 00:32:38,517] Trial 93 finished with value: 0.8375 and parameters: {'hidden_dim': 512, 'latent_dim': 15, 'beta': 0.5017604307810619, 'gamma': 1.4324501955400377, 'dropout_rate': 0.20095499957919627, 'activation': 'GELU'}. Best is trial 85 with value: 0.9178082191780822.\n"
     ]
    },
    {
     "name": "stdout",
     "output_type": "stream",
     "text": [
      "\n",
      "=== Summary ===\n",
      "Total False Positives: 34\n",
      "Total False Negatives: 13\n",
      "Total True Positives: 67\n",
      "Total True Negatives: 716\n",
      "[[716.  34.]\n",
      " [ 13.  67.]]\n"
     ]
    },
    {
     "name": "stderr",
     "output_type": "stream",
     "text": [
      "[I 2024-11-18 00:34:17,158] Trial 94 finished with value: 0.6804123711340206 and parameters: {'hidden_dim': 496, 'latent_dim': 16, 'beta': 0.7487359699750871, 'gamma': 1.641742075702664, 'dropout_rate': 0.4809657168351492, 'activation': 'GELU'}. Best is trial 85 with value: 0.9178082191780822.\n"
     ]
    },
    {
     "name": "stdout",
     "output_type": "stream",
     "text": [
      "\n",
      "=== Summary ===\n",
      "Total False Positives: 109\n",
      "Total False Negatives: 31\n",
      "Total True Positives: 66\n",
      "Total True Negatives: 640\n",
      "[[640. 109.]\n",
      " [ 31.  66.]]\n"
     ]
    },
    {
     "name": "stderr",
     "output_type": "stream",
     "text": [
      "[I 2024-11-18 00:35:54,843] Trial 95 finished with value: 0.788235294117647 and parameters: {'hidden_dim': 485, 'latent_dim': 17, 'beta': 0.5393053569146099, 'gamma': 1.6994818065517363, 'dropout_rate': 0.40289771737142893, 'activation': 'GELU'}. Best is trial 85 with value: 0.9178082191780822.\n"
     ]
    },
    {
     "name": "stdout",
     "output_type": "stream",
     "text": [
      "\n",
      "=== Summary ===\n",
      "Total False Positives: 51\n",
      "Total False Negatives: 18\n",
      "Total True Positives: 67\n",
      "Total True Negatives: 699\n",
      "[[699.  51.]\n",
      " [ 18.  67.]]\n"
     ]
    },
    {
     "name": "stderr",
     "output_type": "stream",
     "text": [
      "[I 2024-11-18 00:37:32,192] Trial 96 finished with value: 0.7790697674418605 and parameters: {'hidden_dim': 472, 'latent_dim': 13, 'beta': 0.6952999333826555, 'gamma': 1.8346923349665447, 'dropout_rate': 0.1563458359058399, 'activation': 'GELU'}. Best is trial 85 with value: 0.9178082191780822.\n"
     ]
    },
    {
     "name": "stdout",
     "output_type": "stream",
     "text": [
      "\n",
      "=== Summary ===\n",
      "Total False Positives: 48\n",
      "Total False Negatives: 19\n",
      "Total True Positives: 67\n",
      "Total True Negatives: 702\n",
      "[[702.  48.]\n",
      " [ 19.  67.]]\n"
     ]
    },
    {
     "name": "stderr",
     "output_type": "stream",
     "text": [
      "[I 2024-11-18 00:39:13,176] Trial 97 finished with value: 0.7444444444444445 and parameters: {'hidden_dim': 503, 'latent_dim': 6, 'beta': 0.7909410961774179, 'gamma': 1.4747374169346226, 'dropout_rate': 0.14129780601693126, 'activation': 'ELU'}. Best is trial 85 with value: 0.9178082191780822.\n"
     ]
    },
    {
     "name": "stdout",
     "output_type": "stream",
     "text": [
      "\n",
      "=== Summary ===\n",
      "Total False Positives: 108\n",
      "Total False Negatives: 23\n",
      "Total True Positives: 67\n",
      "Total True Negatives: 642\n",
      "[[642. 108.]\n",
      " [ 23.  67.]]\n"
     ]
    },
    {
     "name": "stderr",
     "output_type": "stream",
     "text": [
      "[I 2024-11-18 00:40:52,366] Trial 98 finished with value: 0.8271604938271605 and parameters: {'hidden_dim': 448, 'latent_dim': 19, 'beta': 0.5661784512945859, 'gamma': 1.5811822793092523, 'dropout_rate': 0.17797796243728825, 'activation': 'LeakyReLU'}. Best is trial 85 with value: 0.9178082191780822.\n"
     ]
    },
    {
     "name": "stdout",
     "output_type": "stream",
     "text": [
      "\n",
      "=== Summary ===\n",
      "Total False Positives: 64\n",
      "Total False Negatives: 14\n",
      "Total True Positives: 67\n",
      "Total True Negatives: 686\n",
      "[[686.  64.]\n",
      " [ 14.  67.]]\n"
     ]
    },
    {
     "name": "stderr",
     "output_type": "stream",
     "text": [
      "[I 2024-11-18 00:42:35,146] Trial 99 finished with value: 0.7586206896551724 and parameters: {'hidden_dim': 493, 'latent_dim': 20, 'beta': 0.630860208119373, 'gamma': 1.7402833188337494, 'dropout_rate': 0.10378134967773636, 'activation': 'GELU'}. Best is trial 85 with value: 0.9178082191780822.\n"
     ]
    },
    {
     "name": "stdout",
     "output_type": "stream",
     "text": [
      "\n",
      "=== Summary ===\n",
      "Total False Positives: 47\n",
      "Total False Negatives: 21\n",
      "Total True Positives: 66\n",
      "Total True Negatives: 703\n",
      "[[703.  47.]\n",
      " [ 21.  66.]]\n",
      "Best Hyperparameters: {'hidden_dim': 476, 'latent_dim': 16, 'beta': 0.5494693076818475, 'gamma': 1.7424041881705277, 'dropout_rate': 0.10253196823027107, 'activation': 'GELU'}\n"
     ]
    }
   ],
   "source": [
    "def objective(trial):\n",
    "    hidden_dim = trial.suggest_int('hidden_dim', 128, 512)\n",
    "    latent_dim = trial.suggest_int('latent_dim', 5, 20)\n",
    "    beta = trial.suggest_float('beta', 0.5, 2.0)\n",
    "    gamma = trial.suggest_float('gamma', 0.5, 2.0)\n",
    "    dropout_rate = trial.suggest_float('dropout_rate', 0.1, 0.5)\n",
    "    \n",
    "    activation_name = trial.suggest_categorical('activation', ['ReLU', 'LeakyReLU', 'ELU', 'SELU', 'GELU'])\n",
    "    activation = get_activation_function(activation_name)\n",
    "\n",
    "    model = SupervisedVAE(input_dim, hidden_dim, latent_dim, dropout_rate, activation).to(device)\n",
    "    optimizer = torch.optim.Adam(model.parameters(), lr=1e-3)\n",
    "    scheduler = ReduceLROnPlateau(optimizer, mode='min', factor=0.5, patience=4)\n",
    "    \n",
    "    all_false_positives = []\n",
    "    all_false_negatives = []\n",
    "    all_true_positives = []\n",
    "    all_true_negatives = []\n",
    "\n",
    "    num_epochs = 50\n",
    "\n",
    "    n_folds = 5\n",
    "    skf = StratifiedKFold(n_splits=n_folds, shuffle=True, random_state=42)\n",
    "\n",
    "\n",
    "    for fold, (train_index, val_index) in enumerate(skf.split(frb_data_scaled, labels)):\n",
    "        # print(f\"\\n=== Fold {fold + 1}/{n_folds} ===\")\n",
    "        \n",
    "        train_data, val_data = frb_data_scaled[train_index], frb_data_scaled[val_index]\n",
    "        train_labels, val_labels = labels.iloc[train_index], labels.iloc[val_index]\n",
    "        \n",
    "        train_tensor = torch.tensor(train_data, dtype=torch.float32)\n",
    "        val_tensor = torch.tensor(val_data, dtype=torch.float32)\n",
    "        train_labels_tensor = torch.tensor(train_labels.values, dtype=torch.long)\n",
    "        val_labels_tensor = torch.tensor(val_labels.values, dtype=torch.long)\n",
    "        \n",
    "        train_dataset = TensorDataset(train_tensor, train_labels_tensor)\n",
    "        val_dataset = TensorDataset(val_tensor, val_labels_tensor)\n",
    "        \n",
    "        train_loader = DataLoader(train_dataset, batch_size=batch_size, shuffle=True)\n",
    "        val_loader = DataLoader(val_dataset, batch_size=batch_size, shuffle=False)\n",
    "        \n",
    "\n",
    "        \n",
    "        optimizer = torch.optim.Adam(model.parameters(), lr=1e-3)\n",
    "        scheduler = ReduceLROnPlateau(optimizer, mode='min', factor=0.5, patience=4)\n",
    "        \n",
    "        # Train the model\n",
    "        for epoch in range(1, num_epochs + 1):\n",
    "            train_loss, _, _, _, train_accuracy = train_supervised(model, optimizer, scheduler, epoch, beta, gamma)\n",
    "            val_loss, _, _, _, val_accuracy = validate_supervised(model, optimizer, scheduler, epoch, beta, gamma)\n",
    "            scheduler.step(val_loss)\n",
    "            \n",
    "            # Early stopping\n",
    "            if early_stopping([val_loss], patience):\n",
    "                print(f\"Early stopping triggered at epoch {epoch}\")\n",
    "                break\n",
    "\n",
    "        val_accuracy, val_class_report, val_conf_matrix, val_preds, val_labels = evaluate_classifier_full(model, val_loader, device)\n",
    "        \n",
    "        # print(f\"Validation Accuracy: {val_accuracy:.4f}\")\n",
    "        # print(\"Classification Report:\\n\", val_class_report)\n",
    "        # print(\"Confusion Matrix:\\n\", val_conf_matrix)\n",
    "        \n",
    "        misclassified_non_repeaters = (val_labels == 0) & (val_preds == 1)\n",
    "        misclassified_indices = val_index[misclassified_non_repeaters]\n",
    "        misclassified_sources = original_data.loc[misclassified_indices, \"Source\"].drop_duplicates()\n",
    "        \n",
    "        false_positives_fold = original_data.loc[val_index[(val_labels == 0) & (val_preds == 1)], \"Source\"]\n",
    "        false_negatives_fold = original_data.loc[val_index[(val_labels == 1) & (val_preds == 0)], \"Source\"]\n",
    "        true_positives_fold = original_data.loc[val_index[(val_labels == 1) & (val_preds == 1)], \"Source\"]\n",
    "        true_negatives_fold = original_data.loc[val_index[(val_labels == 0) & (val_preds == 0)], \"Source\"]\n",
    "        \n",
    "        # fold_false_positives = []\n",
    "        # for source in misclassified_sources:\n",
    "        #     # fold_false_positives.append(source)\n",
    "        #     if source in garcia_list or source in luo_list or source in zhu_ge_list:\n",
    "        #         print(f\"False positive in fold {fold + 1}: {source}\")\n",
    "                \n",
    "        all_false_negatives.extend(false_negatives_fold)\n",
    "        all_true_positives.extend(true_positives_fold)\n",
    "        all_true_negatives.extend(true_negatives_fold)\n",
    "        all_false_positives.extend(false_positives_fold)\n",
    "        \n",
    "        \n",
    "    all_false_positives = pd.Series(all_false_positives)\n",
    "    all_false_negatives = pd.Series(all_false_negatives)\n",
    "    all_true_positives = pd.Series(all_true_positives)\n",
    "    all_true_negatives = pd.Series(all_true_negatives)\n",
    "\n",
    "    print(\"\\n=== Summary ===\")\n",
    "    print(f\"Total False Positives: {all_false_positives.nunique()}\")\n",
    "    print(f\"Total False Negatives: {all_false_negatives.nunique()}\")\n",
    "    print(f\"Total True Positives: {all_true_positives.nunique()}\")\n",
    "    print(f\"Total True Negatives: {all_true_negatives.nunique()}\")\n",
    "\n",
    "    # Confusion matrix\n",
    "\n",
    "    conf_mat_final = np.zeros((2, 2))\n",
    "    conf_mat_final[0, 0] = all_true_negatives.nunique()\n",
    "    conf_mat_final[0, 1] = all_false_positives.nunique()\n",
    "    conf_mat_final[1, 0] = all_false_negatives.nunique()\n",
    "    conf_mat_final[1, 1] = all_true_positives.nunique()\n",
    "    conf_mat_final.astype(int)\n",
    "    print(conf_mat_final)\n",
    "\n",
    "    recall = all_true_positives.nunique() / (all_true_positives.nunique() + all_false_negatives.nunique())\n",
    "    \n",
    "    return recall\n",
    "        \n",
    "study = optuna.create_study(direction='maximize')\n",
    "study.optimize(objective, n_trials=100)\n",
    "\n",
    "print(\"Best Hyperparameters:\", study.best_params)"
   ]
  },
  {
   "cell_type": "code",
   "execution_count": 350,
   "metadata": {},
   "outputs": [],
   "source": [
    "best_params = {'hidden_dim': 476, 'latent_dim': 16, 'beta': 0.5494693076818475, 'gamma': 1.7424041881705277, 'dropout_rate': 0.10253196823027107, 'activation': 'GELU'}\n",
    "beta = best_params[\"beta\"]\n",
    "gamma = best_params[\"gamma\"]\n",
    "num_epochs = 150"
   ]
  },
  {
   "cell_type": "code",
   "execution_count": 360,
   "metadata": {},
   "outputs": [
    {
     "name": "stdout",
     "output_type": "stream",
     "text": [
      "\n",
      "=== Fold 1/5 ===\n",
      "Validation Accuracy: 0.9919\n",
      "Classification Report:\n",
      "               precision    recall  f1-score   support\n",
      "\n",
      "Non-Repeater       0.99      0.95      0.97       238\n",
      "    Repeater       0.99      1.00      1.00      1495\n",
      "\n",
      "    accuracy                           0.99      1733\n",
      "   macro avg       0.99      0.98      0.98      1733\n",
      "weighted avg       0.99      0.99      0.99      1733\n",
      "\n",
      "Confusion Matrix:\n",
      " [[ 227   11]\n",
      " [   3 1492]]\n",
      "False positive in fold 1: FRB20180928A\n",
      "\n",
      "=== Fold 2/5 ===\n",
      "Validation Accuracy: 0.9925\n",
      "Classification Report:\n",
      "               precision    recall  f1-score   support\n",
      "\n",
      "Non-Repeater       0.97      0.97      0.97       238\n",
      "    Repeater       1.00      1.00      1.00      1495\n",
      "\n",
      "    accuracy                           0.99      1733\n",
      "   macro avg       0.99      0.98      0.98      1733\n",
      "weighted avg       0.99      0.99      0.99      1733\n",
      "\n",
      "Confusion Matrix:\n",
      " [[ 231    7]\n",
      " [   6 1489]]\n",
      "False positive in fold 2: FRB20190418A\n",
      "False positive in fold 2: FRB20190617B\n",
      "\n",
      "=== Fold 3/5 ===\n",
      "Validation Accuracy: 0.9954\n",
      "Classification Report:\n",
      "               precision    recall  f1-score   support\n",
      "\n",
      "Non-Repeater       0.98      0.98      0.98       238\n",
      "    Repeater       1.00      1.00      1.00      1495\n",
      "\n",
      "    accuracy                           1.00      1733\n",
      "   macro avg       0.99      0.99      0.99      1733\n",
      "weighted avg       1.00      1.00      1.00      1733\n",
      "\n",
      "Confusion Matrix:\n",
      " [[ 234    4]\n",
      " [   4 1491]]\n",
      "\n",
      "=== Fold 4/5 ===\n",
      "Validation Accuracy: 0.9925\n",
      "Classification Report:\n",
      "               precision    recall  f1-score   support\n",
      "\n",
      "Non-Repeater       0.97      0.97      0.97       239\n",
      "    Repeater       1.00      1.00      1.00      1494\n",
      "\n",
      "    accuracy                           0.99      1733\n",
      "   macro avg       0.99      0.98      0.98      1733\n",
      "weighted avg       0.99      0.99      0.99      1733\n",
      "\n",
      "Confusion Matrix:\n",
      " [[ 232    7]\n",
      " [   6 1488]]\n",
      "\n",
      "=== Fold 5/5 ===\n",
      "Validation Accuracy: 0.9885\n",
      "Classification Report:\n",
      "               precision    recall  f1-score   support\n",
      "\n",
      "Non-Repeater       0.95      0.96      0.96       238\n",
      "    Repeater       0.99      0.99      0.99      1494\n",
      "\n",
      "    accuracy                           0.99      1732\n",
      "   macro avg       0.97      0.98      0.98      1732\n",
      "weighted avg       0.99      0.99      0.99      1732\n",
      "\n",
      "Confusion Matrix:\n",
      " [[ 229    9]\n",
      " [  11 1483]]\n",
      "False positive in fold 5: FRB20190206A\n",
      "\n",
      "=== Summary ===\n",
      "Total False Positives: 30\n",
      "Total False Negatives: 16\n",
      "Total True Positives: 67\n",
      "Total True Negatives: 719\n",
      "[[719.  30.]\n",
      " [ 16.  67.]]\n",
      "\n",
      "=== Classification Metrics ===\n",
      "Recall (Sensitivity): 0.8072\n",
      "Accuracy: 0.9447\n",
      "F1 Score: 0.7444\n"
     ]
    }
   ],
   "source": [
    "all_false_positives = []\n",
    "all_false_negatives = []\n",
    "all_true_positives = []\n",
    "all_true_negatives = []\n",
    "\n",
    "num_epochs = 100\n",
    "\n",
    "n_folds = 5\n",
    "skf = StratifiedKFold(n_splits=n_folds, shuffle=True, random_state=42)\n",
    "\n",
    "full_data_tensor = torch.tensor(frb_data_scaled, dtype=torch.float32)\n",
    "full_labels_tensor = torch.tensor(labels.values, dtype=torch.long)\n",
    "\n",
    "for fold, (train_index, val_index) in enumerate(skf.split(frb_data_scaled, labels)):\n",
    "    print(f\"\\n=== Fold {fold + 1}/{n_folds} ===\")\n",
    "    \n",
    "    train_data, val_data = frb_data_scaled[train_index], frb_data_scaled[val_index]\n",
    "    train_labels, val_labels = labels.iloc[train_index], labels.iloc[val_index]\n",
    "    \n",
    "    train_tensor = torch.tensor(train_data, dtype=torch.float32)\n",
    "    val_tensor = torch.tensor(val_data, dtype=torch.float32)\n",
    "    train_labels_tensor = torch.tensor(train_labels.values, dtype=torch.long)\n",
    "    val_labels_tensor = torch.tensor(val_labels.values, dtype=torch.long)\n",
    "    \n",
    "    train_dataset = TensorDataset(train_tensor, train_labels_tensor)\n",
    "    val_dataset = TensorDataset(val_tensor, val_labels_tensor)\n",
    "    \n",
    "    train_loader = DataLoader(train_dataset, batch_size=batch_size, shuffle=True)\n",
    "    val_loader = DataLoader(val_dataset, batch_size=batch_size, shuffle=False)\n",
    "    \n",
    "    best_model = SupervisedVAE(\n",
    "        input_dim, \n",
    "        best_params[\"hidden_dim\"], \n",
    "        best_params[\"latent_dim\"], \n",
    "        best_params[\"dropout_rate\"], \n",
    "        activation=get_activation_function(best_params[\"activation\"])\n",
    "    ).to(device)\n",
    "    \n",
    "    optimizer = torch.optim.Adam(best_model.parameters(), lr=1e-3)\n",
    "    scheduler = ReduceLROnPlateau(optimizer, mode='min', factor=0.5, patience=4)\n",
    "    \n",
    "    # Train the model\n",
    "    for epoch in range(1, num_epochs + 1):\n",
    "        train_loss, _, _, _, train_accuracy = train_supervised(best_model, optimizer, scheduler, epoch, beta, gamma)\n",
    "        val_loss, _, _, _, val_accuracy = validate_supervised(best_model, optimizer, scheduler, epoch, beta, gamma)\n",
    "        scheduler.step(val_loss)\n",
    "        \n",
    "        # Early stopping\n",
    "        if early_stopping([val_loss], patience):\n",
    "            print(f\"Early stopping triggered at epoch {epoch}\")\n",
    "            break\n",
    "\n",
    "    val_accuracy, val_class_report, val_conf_matrix, val_preds, val_labels = evaluate_classifier_full(best_model, val_loader, device)\n",
    "    \n",
    "    print(f\"Validation Accuracy: {val_accuracy:.4f}\")\n",
    "    print(\"Classification Report:\\n\", val_class_report)\n",
    "    print(\"Confusion Matrix:\\n\", val_conf_matrix)\n",
    "    \n",
    "    misclassified_non_repeaters = (val_labels == 0) & (val_preds == 1)\n",
    "    misclassified_indices = val_index[misclassified_non_repeaters]\n",
    "    misclassified_sources = original_data.loc[misclassified_indices, \"Source\"].drop_duplicates()\n",
    "    \n",
    "    false_positives_fold = original_data.loc[val_index[(val_labels == 0) & (val_preds == 1)], \"Source\"]\n",
    "    false_negatives_fold = original_data.loc[val_index[(val_labels == 1) & (val_preds == 0)], \"Source\"]\n",
    "    true_positives_fold = original_data.loc[val_index[(val_labels == 1) & (val_preds == 1)], \"Source\"]\n",
    "    true_negatives_fold = original_data.loc[val_index[(val_labels == 0) & (val_preds == 0)], \"Source\"]\n",
    "    \n",
    "    # fold_false_positives = []\n",
    "    for source in misclassified_sources:\n",
    "        # fold_false_positives.append(source)\n",
    "        if source in garcia_list or source in luo_list or source in zhu_ge_list:\n",
    "            print(f\"False positive in fold {fold + 1}: {source}\")\n",
    "            \n",
    "    all_false_negatives.extend(false_negatives_fold)\n",
    "    all_true_positives.extend(true_positives_fold)\n",
    "    all_true_negatives.extend(true_negatives_fold)\n",
    "    all_false_positives.extend(false_positives_fold)\n",
    "    \n",
    "    \n",
    "all_false_positives = pd.Series(all_false_positives)\n",
    "all_false_negatives = pd.Series(all_false_negatives)\n",
    "all_true_positives = pd.Series(all_true_positives)\n",
    "all_true_negatives = pd.Series(all_true_negatives)\n",
    "\n",
    "print(\"\\n=== Summary ===\")\n",
    "print(f\"Total False Positives: {all_false_positives.nunique()}\")\n",
    "print(f\"Total False Negatives: {all_false_negatives.nunique()}\")\n",
    "print(f\"Total True Positives: {all_true_positives.nunique()}\")\n",
    "print(f\"Total True Negatives: {all_true_negatives.nunique()}\")\n",
    "\n",
    "FP = all_false_positives.nunique()\n",
    "FN = all_false_negatives.nunique()\n",
    "TP = all_true_positives.nunique()\n",
    "TN = all_true_negatives.nunique()\n",
    "\n",
    "# Confusion matrix\n",
    "\n",
    "conf_mat_final = np.zeros((2, 2))\n",
    "conf_mat_final[0, 0] = TN\n",
    "conf_mat_final[0, 1] = FP\n",
    "conf_mat_final[1, 0] = FN\n",
    "conf_mat_final[1, 1] = TP\n",
    "\n",
    "print(conf_mat_final)\n",
    "\n",
    "precision = TP / (TP + FP)\n",
    "accuracy = (TP + TN) / (TP + TN + FP + FN)\n",
    "recall = TP / (TP + FN)\n",
    "f1_score = (2 * precision * recall) / (precision + recall) if (precision + recall) > 0 else 0\n",
    "\n",
    "print(\"\\n=== Classification Metrics ===\")\n",
    "# print(f\"Precision: {precision:.4f}\")\n",
    "print(f\"Recall (Sensitivity): {recall:.4f}\")\n",
    "print(f\"Accuracy: {accuracy:.4f}\")\n",
    "print(f\"F1 Score: {f1_score:.4f}\")\n"
   ]
  },
  {
   "cell_type": "code",
   "execution_count": 361,
   "metadata": {},
   "outputs": [
    {
     "name": "stdout",
     "output_type": "stream",
     "text": [
      "[[1153.   38.]\n",
      " [  30. 7443.]]\n",
      "\n",
      "=== Classification Metrics Overall ===\n",
      "Precision: 0.9960\n",
      "Recall (Sensitivity): 0.9960\n",
      "Accuracy: 0.9922\n",
      "F1 Score: 0.9960\n"
     ]
    }
   ],
   "source": [
    "# Evaluation on overall data\n",
    "\n",
    "FP = len(all_false_positives)\n",
    "FN = len(all_false_negatives)\n",
    "TP = len(all_true_positives)\n",
    "TN = len(all_true_negatives)\n",
    "\n",
    "\n",
    "precision = TP / (TP + FN)\n",
    "accuracy = (TP + TN) / (TP + TN + FP + FN)\n",
    "recall = TP / (TP + FN)\n",
    "f1_score = (2 * precision * recall) / (precision + recall) if (precision + recall) > 0 else 0\n",
    "\n",
    "conf_mat_overall = np.zeros((2, 2))\n",
    "conf_mat_overall[0, 0] = TN\n",
    "conf_mat_overall[0, 1] = FP\n",
    "conf_mat_overall[1, 0] = FN\n",
    "conf_mat_overall[1, 1] = TP\n",
    "\n",
    "print(conf_mat_overall)\n",
    "\n",
    "print(\"\\n=== Classification Metrics Overall ===\")\n",
    "print(f\"Precision: {precision:.4f}\")\n",
    "print(f\"Recall (Sensitivity): {recall:.4f}\")\n",
    "print(f\"Accuracy: {accuracy:.4f}\")\n",
    "print(f\"F1 Score: {f1_score:.4f}\")\n"
   ]
  },
  {
   "cell_type": "code",
   "execution_count": 362,
   "metadata": {},
   "outputs": [
    {
     "name": "stdout",
     "output_type": "stream",
     "text": [
      "[[719.  30.]\n",
      " [ 16.  67.]]\n",
      "\n",
      "=== Classification Metrics ===\n",
      "Precision: 0.8072\n",
      "Recall (Sensitivity): 0.8072\n",
      "Accuracy: 0.9447\n",
      "F1 Score: 0.8072\n"
     ]
    }
   ],
   "source": [
    "# Evaluation on unique FRB data\n",
    "\n",
    "FP = all_false_positives.nunique()\n",
    "FN = all_false_negatives.nunique()\n",
    "TP = all_true_positives.nunique()\n",
    "TN = all_true_negatives.nunique()\n",
    "\n",
    "# Confusion matrix\n",
    "\n",
    "conf_mat_final = np.zeros((2, 2))\n",
    "conf_mat_final[0, 0] = TN\n",
    "conf_mat_final[0, 1] = FP\n",
    "conf_mat_final[1, 0] = FN\n",
    "conf_mat_final[1, 1] = TP\n",
    "\n",
    "print(conf_mat_final)\n",
    "\n",
    "precision = TP / (TP + FN)\n",
    "accuracy = (TP + TN) / (TP + TN + FP + FN)\n",
    "recall = TP / (TP + FN)\n",
    "f1_score = (2 * precision * recall) / (precision + recall) if (precision + recall) > 0 else 0\n",
    "\n",
    "print(\"\\n=== Classification Metrics ===\")\n",
    "print(f\"Precision: {precision:.4f}\")\n",
    "print(f\"Recall (Sensitivity): {recall:.4f}\")\n",
    "print(f\"Accuracy: {accuracy:.4f}\")\n",
    "print(f\"F1 Score: {f1_score:.4f}\")"
   ]
  },
  {
   "cell_type": "code",
   "execution_count": 363,
   "metadata": {},
   "outputs": [
    {
     "name": "stdout",
     "output_type": "stream",
     "text": [
      "FRB20180928A\n",
      "FRB20190418A\n",
      "FRB20190617B\n",
      "FRB20190206A\n"
     ]
    }
   ],
   "source": [
    "for source in all_false_positives.drop_duplicates():\n",
    "    if source in garcia_list or source in luo_list or source in zhu_ge_list:\n",
    "        print(source)"
   ]
  }
 ],
 "metadata": {
  "kernelspec": {
   "display_name": ".frb",
   "language": "python",
   "name": "python3"
  },
  "language_info": {
   "codemirror_mode": {
    "name": "ipython",
    "version": 3
   },
   "file_extension": ".py",
   "mimetype": "text/x-python",
   "name": "python",
   "nbconvert_exporter": "python",
   "pygments_lexer": "ipython3",
   "version": "3.12.3"
  }
 },
 "nbformat": 4,
 "nbformat_minor": 2
}
